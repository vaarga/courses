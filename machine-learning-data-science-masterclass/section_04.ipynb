{
 "cells": [
  {
   "metadata": {},
   "cell_type": "markdown",
   "source": "# Section 4: NumPy",
   "id": "25c2ae11e13e622"
  },
  {
   "metadata": {
    "ExecuteTime": {
     "end_time": "2024-12-28T17:13:33.281861Z",
     "start_time": "2024-12-28T17:13:33.218879Z"
    }
   },
   "cell_type": "code",
   "source": "import numpy as np",
   "id": "81b37b1494ce2494",
   "outputs": [],
   "execution_count": 1
  },
  {
   "metadata": {},
   "cell_type": "markdown",
   "source": "## Arrays",
   "id": "8d08e2f414edf68"
  },
  {
   "metadata": {
    "ExecuteTime": {
     "end_time": "2024-12-28T17:13:34.650311Z",
     "start_time": "2024-12-28T17:13:34.648011Z"
    }
   },
   "cell_type": "code",
   "source": "my_list = [1, 2, 3]",
   "id": "b657099b3cb7f5",
   "outputs": [],
   "execution_count": 2
  },
  {
   "metadata": {
    "ExecuteTime": {
     "end_time": "2024-12-28T17:13:35.253899Z",
     "start_time": "2024-12-28T17:13:35.249208Z"
    }
   },
   "cell_type": "code",
   "source": "type(my_list)",
   "id": "f2116281a80fc733",
   "outputs": [
    {
     "data": {
      "text/plain": [
       "list"
      ]
     },
     "execution_count": 3,
     "metadata": {},
     "output_type": "execute_result"
    }
   ],
   "execution_count": 3
  },
  {
   "metadata": {
    "ExecuteTime": {
     "end_time": "2024-12-28T17:13:35.868417Z",
     "start_time": "2024-12-28T17:13:35.865337Z"
    }
   },
   "cell_type": "code",
   "source": "np.array(my_list)",
   "id": "4ceb7d575c1bef7a",
   "outputs": [
    {
     "data": {
      "text/plain": [
       "array([1, 2, 3])"
      ]
     },
     "execution_count": 4,
     "metadata": {},
     "output_type": "execute_result"
    }
   ],
   "execution_count": 4
  },
  {
   "metadata": {
    "ExecuteTime": {
     "end_time": "2024-12-28T17:13:36.292160Z",
     "start_time": "2024-12-28T17:13:36.289576Z"
    }
   },
   "cell_type": "code",
   "source": "my_array = np.array(my_list)",
   "id": "6d7ab321253b3682",
   "outputs": [],
   "execution_count": 5
  },
  {
   "metadata": {
    "ExecuteTime": {
     "end_time": "2024-12-28T17:13:36.774096Z",
     "start_time": "2024-12-28T17:13:36.771528Z"
    }
   },
   "cell_type": "code",
   "source": "type(my_array)",
   "id": "ca1e18fba897b7b6",
   "outputs": [
    {
     "data": {
      "text/plain": [
       "numpy.ndarray"
      ]
     },
     "execution_count": 6,
     "metadata": {},
     "output_type": "execute_result"
    }
   ],
   "execution_count": 6
  },
  {
   "metadata": {
    "ExecuteTime": {
     "end_time": "2024-12-28T17:13:37.493420Z",
     "start_time": "2024-12-28T17:13:37.490825Z"
    }
   },
   "cell_type": "code",
   "source": "my_matrix = [[1, 2, 3], [4, 5, 6], [7, 8, 9]]",
   "id": "ba6350bfd085255a",
   "outputs": [],
   "execution_count": 7
  },
  {
   "metadata": {
    "ExecuteTime": {
     "end_time": "2024-12-28T17:13:37.879337Z",
     "start_time": "2024-12-28T17:13:37.876063Z"
    }
   },
   "cell_type": "code",
   "source": "np.array(my_matrix)",
   "id": "47f007129cd32823",
   "outputs": [
    {
     "data": {
      "text/plain": [
       "array([[1, 2, 3],\n",
       "       [4, 5, 6],\n",
       "       [7, 8, 9]])"
      ]
     },
     "execution_count": 8,
     "metadata": {},
     "output_type": "execute_result"
    }
   ],
   "execution_count": 8
  },
  {
   "metadata": {
    "ExecuteTime": {
     "end_time": "2024-12-28T17:13:38.478113Z",
     "start_time": "2024-12-28T17:13:38.473141Z"
    }
   },
   "cell_type": "code",
   "source": "np.arange(0, 10, 2)",
   "id": "3e8b6639f41e3745",
   "outputs": [
    {
     "data": {
      "text/plain": [
       "array([0, 2, 4, 6, 8])"
      ]
     },
     "execution_count": 9,
     "metadata": {},
     "output_type": "execute_result"
    }
   ],
   "execution_count": 9
  },
  {
   "metadata": {
    "ExecuteTime": {
     "end_time": "2024-12-28T17:13:39.112225Z",
     "start_time": "2024-12-28T17:13:39.108719Z"
    }
   },
   "cell_type": "code",
   "source": "np.zeros(5)",
   "id": "f7f5eef50b19f69e",
   "outputs": [
    {
     "data": {
      "text/plain": [
       "array([0., 0., 0., 0., 0.])"
      ]
     },
     "execution_count": 10,
     "metadata": {},
     "output_type": "execute_result"
    }
   ],
   "execution_count": 10
  },
  {
   "metadata": {
    "ExecuteTime": {
     "end_time": "2024-12-28T17:13:39.692534Z",
     "start_time": "2024-12-28T17:13:39.689063Z"
    }
   },
   "cell_type": "code",
   "source": "np.zeros((2, 5))",
   "id": "80673a8c26b4f606",
   "outputs": [
    {
     "data": {
      "text/plain": [
       "array([[0., 0., 0., 0., 0.],\n",
       "       [0., 0., 0., 0., 0.]])"
      ]
     },
     "execution_count": 11,
     "metadata": {},
     "output_type": "execute_result"
    }
   ],
   "execution_count": 11
  },
  {
   "metadata": {
    "ExecuteTime": {
     "end_time": "2024-12-28T17:13:40.221129Z",
     "start_time": "2024-12-28T17:13:40.218047Z"
    }
   },
   "cell_type": "code",
   "source": "np.ones((4, 2))",
   "id": "32db6d900e604062",
   "outputs": [
    {
     "data": {
      "text/plain": [
       "array([[1., 1.],\n",
       "       [1., 1.],\n",
       "       [1., 1.],\n",
       "       [1., 1.]])"
      ]
     },
     "execution_count": 12,
     "metadata": {},
     "output_type": "execute_result"
    }
   ],
   "execution_count": 12
  },
  {
   "metadata": {
    "ExecuteTime": {
     "end_time": "2024-12-28T17:13:40.766760Z",
     "start_time": "2024-12-28T17:13:40.763574Z"
    }
   },
   "cell_type": "code",
   "source": "np.linspace(0, 5, 21)",
   "id": "f0a3cb61d4c2e838",
   "outputs": [
    {
     "data": {
      "text/plain": [
       "array([0.  , 0.25, 0.5 , 0.75, 1.  , 1.25, 1.5 , 1.75, 2.  , 2.25, 2.5 ,\n",
       "       2.75, 3.  , 3.25, 3.5 , 3.75, 4.  , 4.25, 4.5 , 4.75, 5.  ])"
      ]
     },
     "execution_count": 13,
     "metadata": {},
     "output_type": "execute_result"
    }
   ],
   "execution_count": 13
  },
  {
   "metadata": {
    "ExecuteTime": {
     "end_time": "2024-12-28T17:13:41.275443Z",
     "start_time": "2024-12-28T17:13:41.272349Z"
    }
   },
   "cell_type": "code",
   "source": "np.eye(5)",
   "id": "66180b71da7f7623",
   "outputs": [
    {
     "data": {
      "text/plain": [
       "array([[1., 0., 0., 0., 0.],\n",
       "       [0., 1., 0., 0., 0.],\n",
       "       [0., 0., 1., 0., 0.],\n",
       "       [0., 0., 0., 1., 0.],\n",
       "       [0., 0., 0., 0., 1.]])"
      ]
     },
     "execution_count": 14,
     "metadata": {},
     "output_type": "execute_result"
    }
   ],
   "execution_count": 14
  },
  {
   "metadata": {
    "ExecuteTime": {
     "end_time": "2024-12-28T17:13:41.740619Z",
     "start_time": "2024-12-28T17:13:41.734468Z"
    }
   },
   "cell_type": "code",
   "source": "np.random.rand(5, 6)",
   "id": "f3db2d59d28d27f9",
   "outputs": [
    {
     "data": {
      "text/plain": [
       "array([[0.01117568, 0.53750534, 0.58749166, 0.93003801, 0.52826127,\n",
       "        0.80737882],\n",
       "       [0.17697594, 0.87540861, 0.05653638, 0.451127  , 0.4374561 ,\n",
       "        0.39502188],\n",
       "       [0.92431436, 0.73939694, 0.01879764, 0.66607166, 0.85760771,\n",
       "        0.7120119 ],\n",
       "       [0.70686926, 0.47233579, 0.10483962, 0.87739469, 0.21993956,\n",
       "        0.34540507],\n",
       "       [0.57465883, 0.87706469, 0.80322446, 0.765271  , 0.66013875,\n",
       "        0.06420443]])"
      ]
     },
     "execution_count": 15,
     "metadata": {},
     "output_type": "execute_result"
    }
   ],
   "execution_count": 15
  },
  {
   "metadata": {
    "ExecuteTime": {
     "end_time": "2024-12-28T17:13:42.288577Z",
     "start_time": "2024-12-28T17:13:42.285320Z"
    }
   },
   "cell_type": "code",
   "source": "np.random.randn(10)",
   "id": "f32a62aadfb725cc",
   "outputs": [
    {
     "data": {
      "text/plain": [
       "array([-0.72088929,  0.80995825, -0.85457897, -0.11262515, -1.06191664,\n",
       "        0.62868206,  1.94952966,  1.21512832,  0.32992022, -0.40607529])"
      ]
     },
     "execution_count": 16,
     "metadata": {},
     "output_type": "execute_result"
    }
   ],
   "execution_count": 16
  },
  {
   "metadata": {
    "ExecuteTime": {
     "end_time": "2024-12-28T17:13:42.952030Z",
     "start_time": "2024-12-28T17:13:42.948861Z"
    }
   },
   "cell_type": "code",
   "source": "np.random.randn(2, 3)",
   "id": "eb223e5cf04154cc",
   "outputs": [
    {
     "data": {
      "text/plain": [
       "array([[-2.04181614, -1.34492483, -1.54100298],\n",
       "       [ 0.78705439, -0.56307462,  0.3320387 ]])"
      ]
     },
     "execution_count": 17,
     "metadata": {},
     "output_type": "execute_result"
    }
   ],
   "execution_count": 17
  },
  {
   "metadata": {
    "ExecuteTime": {
     "end_time": "2024-12-28T17:13:43.475925Z",
     "start_time": "2024-12-28T17:13:43.470363Z"
    }
   },
   "cell_type": "code",
   "source": "np.random.randint(0, 101, (4, 5))",
   "id": "1979d6ca908847ba",
   "outputs": [
    {
     "data": {
      "text/plain": [
       "array([[71, 36, 20, 24,  1],\n",
       "       [55, 70, 42, 83, 85],\n",
       "       [64, 70, 11, 70,  6],\n",
       "       [29, 26, 11, 68, 72]])"
      ]
     },
     "execution_count": 18,
     "metadata": {},
     "output_type": "execute_result"
    }
   ],
   "execution_count": 18
  },
  {
   "metadata": {
    "ExecuteTime": {
     "end_time": "2024-12-28T17:13:43.959974Z",
     "start_time": "2024-12-28T17:13:43.955281Z"
    }
   },
   "cell_type": "code",
   "source": [
    "np.random.seed(42)\n",
    "np.random.rand(4)"
   ],
   "id": "eff32b4fa377991b",
   "outputs": [
    {
     "data": {
      "text/plain": [
       "array([0.37454012, 0.95071431, 0.73199394, 0.59865848])"
      ]
     },
     "execution_count": 19,
     "metadata": {},
     "output_type": "execute_result"
    }
   ],
   "execution_count": 19
  },
  {
   "metadata": {
    "ExecuteTime": {
     "end_time": "2024-12-28T17:13:44.414909Z",
     "start_time": "2024-12-28T17:13:44.412401Z"
    }
   },
   "cell_type": "code",
   "source": "arr = np.arange(0, 25)",
   "id": "e083106b093c908e",
   "outputs": [],
   "execution_count": 20
  },
  {
   "metadata": {
    "ExecuteTime": {
     "end_time": "2024-12-28T17:13:45.104074Z",
     "start_time": "2024-12-28T17:13:45.100634Z"
    }
   },
   "cell_type": "code",
   "source": "arr.reshape(5, 5)",
   "id": "c508aaef3fbcabc1",
   "outputs": [
    {
     "data": {
      "text/plain": [
       "array([[ 0,  1,  2,  3,  4],\n",
       "       [ 5,  6,  7,  8,  9],\n",
       "       [10, 11, 12, 13, 14],\n",
       "       [15, 16, 17, 18, 19],\n",
       "       [20, 21, 22, 23, 24]])"
      ]
     },
     "execution_count": 21,
     "metadata": {},
     "output_type": "execute_result"
    }
   ],
   "execution_count": 21
  },
  {
   "metadata": {
    "ExecuteTime": {
     "end_time": "2024-12-28T17:13:45.613867Z",
     "start_time": "2024-12-28T17:13:45.611599Z"
    }
   },
   "cell_type": "code",
   "source": "rand_arr = np.random.randint(0, 101, 10)",
   "id": "fe329f932501e043",
   "outputs": [],
   "execution_count": 22
  },
  {
   "metadata": {
    "ExecuteTime": {
     "end_time": "2024-12-28T17:13:46.092997Z",
     "start_time": "2024-12-28T17:13:46.090133Z"
    }
   },
   "cell_type": "code",
   "source": "rand_arr",
   "id": "187d7ca3281d70cc",
   "outputs": [
    {
     "data": {
      "text/plain": [
       "array([82, 86, 74, 74, 87, 99, 23,  2, 21, 52])"
      ]
     },
     "execution_count": 23,
     "metadata": {},
     "output_type": "execute_result"
    }
   ],
   "execution_count": 23
  },
  {
   "metadata": {
    "ExecuteTime": {
     "end_time": "2024-12-28T17:13:46.642747Z",
     "start_time": "2024-12-28T17:13:46.639707Z"
    }
   },
   "cell_type": "code",
   "source": "rand_arr.max()",
   "id": "e91b2f9c1efd0b2",
   "outputs": [
    {
     "data": {
      "text/plain": [
       "99"
      ]
     },
     "execution_count": 24,
     "metadata": {},
     "output_type": "execute_result"
    }
   ],
   "execution_count": 24
  },
  {
   "metadata": {
    "ExecuteTime": {
     "end_time": "2024-12-28T17:13:47.103354Z",
     "start_time": "2024-12-28T17:13:47.099700Z"
    }
   },
   "cell_type": "code",
   "source": "rand_arr.min()",
   "id": "c199cc33c9e49a27",
   "outputs": [
    {
     "data": {
      "text/plain": [
       "2"
      ]
     },
     "execution_count": 25,
     "metadata": {},
     "output_type": "execute_result"
    }
   ],
   "execution_count": 25
  },
  {
   "metadata": {
    "ExecuteTime": {
     "end_time": "2024-12-28T17:13:47.567376Z",
     "start_time": "2024-12-28T17:13:47.564233Z"
    }
   },
   "cell_type": "code",
   "source": "rand_arr.argmax()",
   "id": "f01936f6d0de826d",
   "outputs": [
    {
     "data": {
      "text/plain": [
       "5"
      ]
     },
     "execution_count": 26,
     "metadata": {},
     "output_type": "execute_result"
    }
   ],
   "execution_count": 26
  },
  {
   "metadata": {
    "ExecuteTime": {
     "end_time": "2024-12-28T17:13:47.968289Z",
     "start_time": "2024-12-28T17:13:47.964894Z"
    }
   },
   "cell_type": "code",
   "source": "rand_arr.argmin()",
   "id": "8db5a60f0356414d",
   "outputs": [
    {
     "data": {
      "text/plain": [
       "7"
      ]
     },
     "execution_count": 27,
     "metadata": {},
     "output_type": "execute_result"
    }
   ],
   "execution_count": 27
  },
  {
   "metadata": {
    "ExecuteTime": {
     "end_time": "2024-12-28T17:13:48.472260Z",
     "start_time": "2024-12-28T17:13:48.469065Z"
    }
   },
   "cell_type": "code",
   "source": "rand_arr.dtype",
   "id": "5634d1facb3440f3",
   "outputs": [
    {
     "data": {
      "text/plain": [
       "dtype('int64')"
      ]
     },
     "execution_count": 28,
     "metadata": {},
     "output_type": "execute_result"
    }
   ],
   "execution_count": 28
  },
  {
   "metadata": {
    "ExecuteTime": {
     "end_time": "2024-12-28T17:13:48.884276Z",
     "start_time": "2024-12-28T17:13:48.881086Z"
    }
   },
   "cell_type": "code",
   "source": "arr.shape",
   "id": "55da2f128b796313",
   "outputs": [
    {
     "data": {
      "text/plain": [
       "(25,)"
      ]
     },
     "execution_count": 29,
     "metadata": {},
     "output_type": "execute_result"
    }
   ],
   "execution_count": 29
  },
  {
   "metadata": {
    "ExecuteTime": {
     "end_time": "2024-12-28T17:13:49.329681Z",
     "start_time": "2024-12-28T17:13:49.327416Z"
    }
   },
   "cell_type": "code",
   "source": "arr = arr.reshape(5, 5)",
   "id": "35def4818f338bf",
   "outputs": [],
   "execution_count": 30
  },
  {
   "metadata": {
    "ExecuteTime": {
     "end_time": "2024-12-28T17:13:49.698609Z",
     "start_time": "2024-12-28T17:13:49.695843Z"
    }
   },
   "cell_type": "code",
   "source": "arr.shape",
   "id": "cc85521e066152e8",
   "outputs": [
    {
     "data": {
      "text/plain": [
       "(5, 5)"
      ]
     },
     "execution_count": 31,
     "metadata": {},
     "output_type": "execute_result"
    }
   ],
   "execution_count": 31
  },
  {
   "metadata": {
    "ExecuteTime": {
     "end_time": "2024-12-28T17:13:50.274372Z",
     "start_time": "2024-12-28T17:13:50.271967Z"
    }
   },
   "cell_type": "code",
   "source": "arr = arr.reshape(25, 1)",
   "id": "7f167f657b18d540",
   "outputs": [],
   "execution_count": 32
  },
  {
   "metadata": {
    "ExecuteTime": {
     "end_time": "2024-12-28T17:13:50.703684Z",
     "start_time": "2024-12-28T17:13:50.700812Z"
    }
   },
   "cell_type": "code",
   "source": "arr.shape",
   "id": "9f8a861d827d6ef3",
   "outputs": [
    {
     "data": {
      "text/plain": [
       "(25, 1)"
      ]
     },
     "execution_count": 33,
     "metadata": {},
     "output_type": "execute_result"
    }
   ],
   "execution_count": 33
  },
  {
   "metadata": {},
   "cell_type": "markdown",
   "source": "## Indexing and Selection",
   "id": "5875397d6d78ef37"
  },
  {
   "metadata": {
    "ExecuteTime": {
     "end_time": "2024-12-28T17:13:51.612439Z",
     "start_time": "2024-12-28T17:13:51.609990Z"
    }
   },
   "cell_type": "code",
   "source": "arr = np.arange(0, 11)",
   "id": "be62cff24c993e4f",
   "outputs": [],
   "execution_count": 34
  },
  {
   "metadata": {
    "ExecuteTime": {
     "end_time": "2024-12-28T17:13:52.059761Z",
     "start_time": "2024-12-28T17:13:52.056725Z"
    }
   },
   "cell_type": "code",
   "source": "arr",
   "id": "12e103e8e8f10efb",
   "outputs": [
    {
     "data": {
      "text/plain": [
       "array([ 0,  1,  2,  3,  4,  5,  6,  7,  8,  9, 10])"
      ]
     },
     "execution_count": 35,
     "metadata": {},
     "output_type": "execute_result"
    }
   ],
   "execution_count": 35
  },
  {
   "metadata": {
    "ExecuteTime": {
     "end_time": "2024-12-28T17:13:52.502505Z",
     "start_time": "2024-12-28T17:13:52.499557Z"
    }
   },
   "cell_type": "code",
   "source": "arr[8]",
   "id": "8b129689b4e1fe06",
   "outputs": [
    {
     "data": {
      "text/plain": [
       "8"
      ]
     },
     "execution_count": 36,
     "metadata": {},
     "output_type": "execute_result"
    }
   ],
   "execution_count": 36
  },
  {
   "metadata": {
    "ExecuteTime": {
     "end_time": "2024-12-28T17:13:52.843035Z",
     "start_time": "2024-12-28T17:13:52.839839Z"
    }
   },
   "cell_type": "code",
   "source": "arr[1:5]",
   "id": "ecc4a3380d253b6f",
   "outputs": [
    {
     "data": {
      "text/plain": [
       "array([1, 2, 3, 4])"
      ]
     },
     "execution_count": 37,
     "metadata": {},
     "output_type": "execute_result"
    }
   ],
   "execution_count": 37
  },
  {
   "metadata": {
    "ExecuteTime": {
     "end_time": "2024-12-28T17:13:53.292440Z",
     "start_time": "2024-12-28T17:13:53.289083Z"
    }
   },
   "cell_type": "code",
   "source": "arr[:5]",
   "id": "6a13e81ba37850a",
   "outputs": [
    {
     "data": {
      "text/plain": [
       "array([0, 1, 2, 3, 4])"
      ]
     },
     "execution_count": 38,
     "metadata": {},
     "output_type": "execute_result"
    }
   ],
   "execution_count": 38
  },
  {
   "metadata": {
    "ExecuteTime": {
     "end_time": "2024-12-28T17:13:53.770311Z",
     "start_time": "2024-12-28T17:13:53.767223Z"
    }
   },
   "cell_type": "code",
   "source": "arr[5:]",
   "id": "a53d24cf638f2d34",
   "outputs": [
    {
     "data": {
      "text/plain": [
       "array([ 5,  6,  7,  8,  9, 10])"
      ]
     },
     "execution_count": 39,
     "metadata": {},
     "output_type": "execute_result"
    }
   ],
   "execution_count": 39
  },
  {
   "metadata": {
    "ExecuteTime": {
     "end_time": "2024-12-28T17:13:54.133530Z",
     "start_time": "2024-12-28T17:13:54.130705Z"
    }
   },
   "cell_type": "code",
   "source": "arr",
   "id": "fe7ff742d1dee7c5",
   "outputs": [
    {
     "data": {
      "text/plain": [
       "array([ 0,  1,  2,  3,  4,  5,  6,  7,  8,  9, 10])"
      ]
     },
     "execution_count": 40,
     "metadata": {},
     "output_type": "execute_result"
    }
   ],
   "execution_count": 40
  },
  {
   "metadata": {
    "ExecuteTime": {
     "end_time": "2024-12-28T17:13:54.514705Z",
     "start_time": "2024-12-28T17:13:54.512421Z"
    }
   },
   "cell_type": "code",
   "source": "arr[:5] = 100",
   "id": "bd443d8b4ce85812",
   "outputs": [],
   "execution_count": 41
  },
  {
   "metadata": {
    "ExecuteTime": {
     "end_time": "2024-12-28T17:13:54.941295Z",
     "start_time": "2024-12-28T17:13:54.938259Z"
    }
   },
   "cell_type": "code",
   "source": "arr",
   "id": "15bb7268cf24d05e",
   "outputs": [
    {
     "data": {
      "text/plain": [
       "array([100, 100, 100, 100, 100,   5,   6,   7,   8,   9,  10])"
      ]
     },
     "execution_count": 42,
     "metadata": {},
     "output_type": "execute_result"
    }
   ],
   "execution_count": 42
  },
  {
   "metadata": {
    "ExecuteTime": {
     "end_time": "2024-12-28T17:13:55.369516Z",
     "start_time": "2024-12-28T17:13:55.367012Z"
    }
   },
   "cell_type": "code",
   "source": "arr = np.arange(0, 11)",
   "id": "1bb425d495ef8479",
   "outputs": [],
   "execution_count": 43
  },
  {
   "metadata": {
    "ExecuteTime": {
     "end_time": "2024-12-28T17:13:55.877374Z",
     "start_time": "2024-12-28T17:13:55.875257Z"
    }
   },
   "cell_type": "code",
   "source": "slice_of_arr = arr[0:5]",
   "id": "68407497b3e43936",
   "outputs": [],
   "execution_count": 44
  },
  {
   "metadata": {
    "ExecuteTime": {
     "end_time": "2024-12-28T17:13:56.439521Z",
     "start_time": "2024-12-28T17:13:56.436601Z"
    }
   },
   "cell_type": "code",
   "source": "slice_of_arr",
   "id": "c70e4bf82ce76c4f",
   "outputs": [
    {
     "data": {
      "text/plain": [
       "array([0, 1, 2, 3, 4])"
      ]
     },
     "execution_count": 45,
     "metadata": {},
     "output_type": "execute_result"
    }
   ],
   "execution_count": 45
  },
  {
   "metadata": {
    "ExecuteTime": {
     "end_time": "2024-12-28T17:13:56.866791Z",
     "start_time": "2024-12-28T17:13:56.863513Z"
    }
   },
   "cell_type": "code",
   "source": "arr",
   "id": "f0015b85418bdb27",
   "outputs": [
    {
     "data": {
      "text/plain": [
       "array([ 0,  1,  2,  3,  4,  5,  6,  7,  8,  9, 10])"
      ]
     },
     "execution_count": 46,
     "metadata": {},
     "output_type": "execute_result"
    }
   ],
   "execution_count": 46
  },
  {
   "metadata": {
    "ExecuteTime": {
     "end_time": "2024-12-28T17:13:57.328952Z",
     "start_time": "2024-12-28T17:13:57.326802Z"
    }
   },
   "cell_type": "code",
   "source": "slice_of_arr[:] = 99",
   "id": "c762250f12420358",
   "outputs": [],
   "execution_count": 47
  },
  {
   "metadata": {
    "ExecuteTime": {
     "end_time": "2024-12-28T17:13:57.748886Z",
     "start_time": "2024-12-28T17:13:57.745927Z"
    }
   },
   "cell_type": "code",
   "source": "slice_of_arr",
   "id": "eff9ffdb4eab47dc",
   "outputs": [
    {
     "data": {
      "text/plain": [
       "array([99, 99, 99, 99, 99])"
      ]
     },
     "execution_count": 48,
     "metadata": {},
     "output_type": "execute_result"
    }
   ],
   "execution_count": 48
  },
  {
   "metadata": {
    "ExecuteTime": {
     "end_time": "2024-12-28T17:13:58.075653Z",
     "start_time": "2024-12-28T17:13:58.071966Z"
    }
   },
   "cell_type": "code",
   "source": "arr",
   "id": "3ab0a83f57f73e95",
   "outputs": [
    {
     "data": {
      "text/plain": [
       "array([99, 99, 99, 99, 99,  5,  6,  7,  8,  9, 10])"
      ]
     },
     "execution_count": 49,
     "metadata": {},
     "output_type": "execute_result"
    }
   ],
   "execution_count": 49
  },
  {
   "metadata": {
    "ExecuteTime": {
     "end_time": "2024-12-28T17:13:58.482480Z",
     "start_time": "2024-12-28T17:13:58.480337Z"
    }
   },
   "cell_type": "code",
   "source": "arr_copy = arr.copy()",
   "id": "f46effc08dff13b0",
   "outputs": [],
   "execution_count": 50
  },
  {
   "metadata": {
    "ExecuteTime": {
     "end_time": "2024-12-28T17:13:58.902600Z",
     "start_time": "2024-12-28T17:13:58.900507Z"
    }
   },
   "cell_type": "code",
   "source": "arr_copy[:] = 100",
   "id": "46b31b6fc32ab4ab",
   "outputs": [],
   "execution_count": 51
  },
  {
   "metadata": {
    "ExecuteTime": {
     "end_time": "2024-12-28T17:13:59.317831Z",
     "start_time": "2024-12-28T17:13:59.314680Z"
    }
   },
   "cell_type": "code",
   "source": "arr_copy",
   "id": "d15a4a3fdf14244d",
   "outputs": [
    {
     "data": {
      "text/plain": [
       "array([100, 100, 100, 100, 100, 100, 100, 100, 100, 100, 100])"
      ]
     },
     "execution_count": 52,
     "metadata": {},
     "output_type": "execute_result"
    }
   ],
   "execution_count": 52
  },
  {
   "metadata": {
    "ExecuteTime": {
     "end_time": "2024-12-28T17:13:59.703511Z",
     "start_time": "2024-12-28T17:13:59.700226Z"
    }
   },
   "cell_type": "code",
   "source": "arr",
   "id": "f46b3d54a5676587",
   "outputs": [
    {
     "data": {
      "text/plain": [
       "array([99, 99, 99, 99, 99,  5,  6,  7,  8,  9, 10])"
      ]
     },
     "execution_count": 53,
     "metadata": {},
     "output_type": "execute_result"
    }
   ],
   "execution_count": 53
  },
  {
   "metadata": {
    "ExecuteTime": {
     "end_time": "2024-12-28T17:14:00.107162Z",
     "start_time": "2024-12-28T17:14:00.104592Z"
    }
   },
   "cell_type": "code",
   "source": "arr_2d = np.array([[5, 10, 15], [20, 25, 30], [35, 40, 45]])",
   "id": "9548b6a3db118bdf",
   "outputs": [],
   "execution_count": 54
  },
  {
   "metadata": {
    "ExecuteTime": {
     "end_time": "2024-12-28T17:14:00.525732Z",
     "start_time": "2024-12-28T17:14:00.522800Z"
    }
   },
   "cell_type": "code",
   "source": "arr_2d",
   "id": "e4b8f2679740c6c3",
   "outputs": [
    {
     "data": {
      "text/plain": [
       "array([[ 5, 10, 15],\n",
       "       [20, 25, 30],\n",
       "       [35, 40, 45]])"
      ]
     },
     "execution_count": 55,
     "metadata": {},
     "output_type": "execute_result"
    }
   ],
   "execution_count": 55
  },
  {
   "metadata": {
    "ExecuteTime": {
     "end_time": "2024-12-28T17:14:00.977860Z",
     "start_time": "2024-12-28T17:14:00.974954Z"
    }
   },
   "cell_type": "code",
   "source": "arr_2d.shape",
   "id": "e19052ae29e897a8",
   "outputs": [
    {
     "data": {
      "text/plain": [
       "(3, 3)"
      ]
     },
     "execution_count": 56,
     "metadata": {},
     "output_type": "execute_result"
    }
   ],
   "execution_count": 56
  },
  {
   "metadata": {
    "ExecuteTime": {
     "end_time": "2024-12-28T17:14:01.415402Z",
     "start_time": "2024-12-28T17:14:01.411931Z"
    }
   },
   "cell_type": "code",
   "source": "arr_2d[0, 2]",
   "id": "25bd1a22a830c227",
   "outputs": [
    {
     "data": {
      "text/plain": [
       "15"
      ]
     },
     "execution_count": 57,
     "metadata": {},
     "output_type": "execute_result"
    }
   ],
   "execution_count": 57
  },
  {
   "metadata": {
    "ExecuteTime": {
     "end_time": "2024-12-28T17:14:01.758492Z",
     "start_time": "2024-12-28T17:14:01.755345Z"
    }
   },
   "cell_type": "code",
   "source": "arr_2d[:2, 1:]",
   "id": "8f442de2edcb59b1",
   "outputs": [
    {
     "data": {
      "text/plain": [
       "array([[10, 15],\n",
       "       [25, 30]])"
      ]
     },
     "execution_count": 58,
     "metadata": {},
     "output_type": "execute_result"
    }
   ],
   "execution_count": 58
  },
  {
   "metadata": {
    "ExecuteTime": {
     "end_time": "2024-12-28T17:14:02.197325Z",
     "start_time": "2024-12-28T17:14:02.195179Z"
    }
   },
   "cell_type": "code",
   "source": "arr = np.arange(1, 11)    ",
   "id": "b1f11d099c03b117",
   "outputs": [],
   "execution_count": 59
  },
  {
   "metadata": {
    "ExecuteTime": {
     "end_time": "2024-12-28T17:14:02.756905Z",
     "start_time": "2024-12-28T17:14:02.753787Z"
    }
   },
   "cell_type": "code",
   "source": "arr",
   "id": "5324dead88b2d98f",
   "outputs": [
    {
     "data": {
      "text/plain": [
       "array([ 1,  2,  3,  4,  5,  6,  7,  8,  9, 10])"
      ]
     },
     "execution_count": 60,
     "metadata": {},
     "output_type": "execute_result"
    }
   ],
   "execution_count": 60
  },
  {
   "metadata": {
    "ExecuteTime": {
     "end_time": "2024-12-28T17:14:03.301416Z",
     "start_time": "2024-12-28T17:14:03.298452Z"
    }
   },
   "cell_type": "code",
   "source": "arr > 4",
   "id": "8b105a2e20ef34fe",
   "outputs": [
    {
     "data": {
      "text/plain": [
       "array([False, False, False, False,  True,  True,  True,  True,  True,\n",
       "        True])"
      ]
     },
     "execution_count": 61,
     "metadata": {},
     "output_type": "execute_result"
    }
   ],
   "execution_count": 61
  },
  {
   "metadata": {
    "ExecuteTime": {
     "end_time": "2024-12-28T17:14:03.699491Z",
     "start_time": "2024-12-28T17:14:03.697231Z"
    }
   },
   "cell_type": "code",
   "source": "bool_arr = arr > 4",
   "id": "544135513f59c969",
   "outputs": [],
   "execution_count": 62
  },
  {
   "metadata": {
    "ExecuteTime": {
     "end_time": "2024-12-28T17:14:04.211924Z",
     "start_time": "2024-12-28T17:14:04.208802Z"
    }
   },
   "cell_type": "code",
   "source": "bool_arr",
   "id": "1173e61b8df2f462",
   "outputs": [
    {
     "data": {
      "text/plain": [
       "array([False, False, False, False,  True,  True,  True,  True,  True,\n",
       "        True])"
      ]
     },
     "execution_count": 63,
     "metadata": {},
     "output_type": "execute_result"
    }
   ],
   "execution_count": 63
  },
  {
   "metadata": {
    "ExecuteTime": {
     "end_time": "2024-12-28T17:14:04.565713Z",
     "start_time": "2024-12-28T17:14:04.562414Z"
    }
   },
   "cell_type": "code",
   "source": "arr[bool_arr]",
   "id": "8fe613e149c1c99a",
   "outputs": [
    {
     "data": {
      "text/plain": [
       "array([ 5,  6,  7,  8,  9, 10])"
      ]
     },
     "execution_count": 64,
     "metadata": {},
     "output_type": "execute_result"
    }
   ],
   "execution_count": 64
  },
  {
   "metadata": {
    "ExecuteTime": {
     "end_time": "2024-12-28T17:14:05.021733Z",
     "start_time": "2024-12-28T17:14:05.018210Z"
    }
   },
   "cell_type": "code",
   "source": "arr[arr > 4]",
   "id": "5fc1d1e529f7b3f4",
   "outputs": [
    {
     "data": {
      "text/plain": [
       "array([ 5,  6,  7,  8,  9, 10])"
      ]
     },
     "execution_count": 65,
     "metadata": {},
     "output_type": "execute_result"
    }
   ],
   "execution_count": 65
  },
  {
   "metadata": {},
   "cell_type": "markdown",
   "source": "## Operations",
   "id": "54494a878d5b3648"
  },
  {
   "metadata": {
    "ExecuteTime": {
     "end_time": "2024-12-28T17:14:05.773983Z",
     "start_time": "2024-12-28T17:14:05.771659Z"
    }
   },
   "cell_type": "code",
   "source": "arr = np.arange(0, 10)",
   "id": "444fac5907435d41",
   "outputs": [],
   "execution_count": 66
  },
  {
   "metadata": {
    "ExecuteTime": {
     "end_time": "2024-12-28T17:14:06.144895Z",
     "start_time": "2024-12-28T17:14:06.142160Z"
    }
   },
   "cell_type": "code",
   "source": "arr",
   "id": "ca6d698900807e35",
   "outputs": [
    {
     "data": {
      "text/plain": [
       "array([0, 1, 2, 3, 4, 5, 6, 7, 8, 9])"
      ]
     },
     "execution_count": 67,
     "metadata": {},
     "output_type": "execute_result"
    }
   ],
   "execution_count": 67
  },
  {
   "metadata": {
    "ExecuteTime": {
     "end_time": "2024-12-28T17:14:06.600503Z",
     "start_time": "2024-12-28T17:14:06.596788Z"
    }
   },
   "cell_type": "code",
   "source": "arr + 5",
   "id": "e83d8af0ad102be3",
   "outputs": [
    {
     "data": {
      "text/plain": [
       "array([ 5,  6,  7,  8,  9, 10, 11, 12, 13, 14])"
      ]
     },
     "execution_count": 68,
     "metadata": {},
     "output_type": "execute_result"
    }
   ],
   "execution_count": 68
  },
  {
   "metadata": {
    "ExecuteTime": {
     "end_time": "2024-12-28T17:14:06.966728Z",
     "start_time": "2024-12-28T17:14:06.963668Z"
    }
   },
   "cell_type": "code",
   "source": "arr - 2",
   "id": "c863a84bacfde625",
   "outputs": [
    {
     "data": {
      "text/plain": [
       "array([-2, -1,  0,  1,  2,  3,  4,  5,  6,  7])"
      ]
     },
     "execution_count": 69,
     "metadata": {},
     "output_type": "execute_result"
    }
   ],
   "execution_count": 69
  },
  {
   "metadata": {
    "ExecuteTime": {
     "end_time": "2024-12-28T17:14:07.331909Z",
     "start_time": "2024-12-28T17:14:07.328802Z"
    }
   },
   "cell_type": "code",
   "source": "arr + arr",
   "id": "4f1e3e582122b6a3",
   "outputs": [
    {
     "data": {
      "text/plain": [
       "array([ 0,  2,  4,  6,  8, 10, 12, 14, 16, 18])"
      ]
     },
     "execution_count": 70,
     "metadata": {},
     "output_type": "execute_result"
    }
   ],
   "execution_count": 70
  },
  {
   "metadata": {
    "ExecuteTime": {
     "end_time": "2024-12-28T17:14:07.661448Z",
     "start_time": "2024-12-28T17:14:07.657006Z"
    }
   },
   "cell_type": "code",
   "source": "arr - arr",
   "id": "d09f35073d36f37b",
   "outputs": [
    {
     "data": {
      "text/plain": [
       "array([0, 0, 0, 0, 0, 0, 0, 0, 0, 0])"
      ]
     },
     "execution_count": 71,
     "metadata": {},
     "output_type": "execute_result"
    }
   ],
   "execution_count": 71
  },
  {
   "metadata": {
    "ExecuteTime": {
     "end_time": "2024-12-28T17:14:08.076297Z",
     "start_time": "2024-12-28T17:14:08.073021Z"
    }
   },
   "cell_type": "code",
   "source": "arr * arr",
   "id": "70e462708b112ce2",
   "outputs": [
    {
     "data": {
      "text/plain": [
       "array([ 0,  1,  4,  9, 16, 25, 36, 49, 64, 81])"
      ]
     },
     "execution_count": 72,
     "metadata": {},
     "output_type": "execute_result"
    }
   ],
   "execution_count": 72
  },
  {
   "metadata": {
    "ExecuteTime": {
     "end_time": "2024-12-28T17:14:08.415304Z",
     "start_time": "2024-12-28T17:14:08.411848Z"
    }
   },
   "cell_type": "code",
   "source": "np.sqrt(arr)",
   "id": "2c4004d5d45fd82",
   "outputs": [
    {
     "data": {
      "text/plain": [
       "array([0.        , 1.        , 1.41421356, 1.73205081, 2.        ,\n",
       "       2.23606798, 2.44948974, 2.64575131, 2.82842712, 3.        ])"
      ]
     },
     "execution_count": 73,
     "metadata": {},
     "output_type": "execute_result"
    }
   ],
   "execution_count": 73
  },
  {
   "metadata": {
    "ExecuteTime": {
     "end_time": "2024-12-28T17:14:08.787448Z",
     "start_time": "2024-12-28T17:14:08.784079Z"
    }
   },
   "cell_type": "code",
   "source": "np.sin(arr)",
   "id": "bb0226512e1e7a1",
   "outputs": [
    {
     "data": {
      "text/plain": [
       "array([ 0.        ,  0.84147098,  0.90929743,  0.14112001, -0.7568025 ,\n",
       "       -0.95892427, -0.2794155 ,  0.6569866 ,  0.98935825,  0.41211849])"
      ]
     },
     "execution_count": 74,
     "metadata": {},
     "output_type": "execute_result"
    }
   ],
   "execution_count": 74
  },
  {
   "metadata": {
    "ExecuteTime": {
     "end_time": "2024-12-28T17:14:09.208514Z",
     "start_time": "2024-12-28T17:14:09.205081Z"
    }
   },
   "cell_type": "code",
   "source": "arr",
   "id": "2dcafff5bedac804",
   "outputs": [
    {
     "data": {
      "text/plain": [
       "array([0, 1, 2, 3, 4, 5, 6, 7, 8, 9])"
      ]
     },
     "execution_count": 75,
     "metadata": {},
     "output_type": "execute_result"
    }
   ],
   "execution_count": 75
  },
  {
   "metadata": {
    "ExecuteTime": {
     "end_time": "2024-12-28T17:14:09.567106Z",
     "start_time": "2024-12-28T17:14:09.563643Z"
    }
   },
   "cell_type": "code",
   "source": "arr.sum()",
   "id": "2823c8a9aa3cae08",
   "outputs": [
    {
     "data": {
      "text/plain": [
       "45"
      ]
     },
     "execution_count": 76,
     "metadata": {},
     "output_type": "execute_result"
    }
   ],
   "execution_count": 76
  },
  {
   "metadata": {
    "ExecuteTime": {
     "end_time": "2024-12-28T17:14:09.891317Z",
     "start_time": "2024-12-28T17:14:09.887682Z"
    }
   },
   "cell_type": "code",
   "source": "arr.mean()",
   "id": "320abdb6b2f09dfc",
   "outputs": [
    {
     "data": {
      "text/plain": [
       "4.5"
      ]
     },
     "execution_count": 77,
     "metadata": {},
     "output_type": "execute_result"
    }
   ],
   "execution_count": 77
  },
  {
   "metadata": {
    "ExecuteTime": {
     "end_time": "2024-12-28T17:14:10.266562Z",
     "start_time": "2024-12-28T17:14:10.263281Z"
    }
   },
   "cell_type": "code",
   "source": "arr.var()",
   "id": "6701841cde376c37",
   "outputs": [
    {
     "data": {
      "text/plain": [
       "8.25"
      ]
     },
     "execution_count": 78,
     "metadata": {},
     "output_type": "execute_result"
    }
   ],
   "execution_count": 78
  },
  {
   "metadata": {
    "ExecuteTime": {
     "end_time": "2024-12-28T17:14:10.620317Z",
     "start_time": "2024-12-28T17:14:10.617263Z"
    }
   },
   "cell_type": "code",
   "source": "arr.std()",
   "id": "dd93a0b3783c4dc9",
   "outputs": [
    {
     "data": {
      "text/plain": [
       "2.8722813232690143"
      ]
     },
     "execution_count": 79,
     "metadata": {},
     "output_type": "execute_result"
    }
   ],
   "execution_count": 79
  },
  {
   "metadata": {
    "ExecuteTime": {
     "end_time": "2024-12-28T17:14:10.948601Z",
     "start_time": "2024-12-28T17:14:10.946100Z"
    }
   },
   "cell_type": "code",
   "source": "arr_2d = np.arange(0, 25).reshape(5, 5)",
   "id": "7607200b4697a084",
   "outputs": [],
   "execution_count": 80
  },
  {
   "metadata": {
    "ExecuteTime": {
     "end_time": "2024-12-28T17:14:11.332619Z",
     "start_time": "2024-12-28T17:14:11.329256Z"
    }
   },
   "cell_type": "code",
   "source": "arr_2d",
   "id": "47cbf1ab659d7f70",
   "outputs": [
    {
     "data": {
      "text/plain": [
       "array([[ 0,  1,  2,  3,  4],\n",
       "       [ 5,  6,  7,  8,  9],\n",
       "       [10, 11, 12, 13, 14],\n",
       "       [15, 16, 17, 18, 19],\n",
       "       [20, 21, 22, 23, 24]])"
      ]
     },
     "execution_count": 81,
     "metadata": {},
     "output_type": "execute_result"
    }
   ],
   "execution_count": 81
  },
  {
   "metadata": {
    "ExecuteTime": {
     "end_time": "2024-12-28T17:14:11.790013Z",
     "start_time": "2024-12-28T17:14:11.787138Z"
    }
   },
   "cell_type": "code",
   "source": "arr_2d.sum()",
   "id": "f04096d817f8e75e",
   "outputs": [
    {
     "data": {
      "text/plain": [
       "300"
      ]
     },
     "execution_count": 82,
     "metadata": {},
     "output_type": "execute_result"
    }
   ],
   "execution_count": 82
  },
  {
   "metadata": {
    "ExecuteTime": {
     "end_time": "2024-12-28T17:14:12.196794Z",
     "start_time": "2024-12-28T17:14:12.192601Z"
    }
   },
   "cell_type": "code",
   "source": "arr_2d.sum(axis=0)",
   "id": "8796fec7c1ab1af2",
   "outputs": [
    {
     "data": {
      "text/plain": [
       "array([50, 55, 60, 65, 70])"
      ]
     },
     "execution_count": 83,
     "metadata": {},
     "output_type": "execute_result"
    }
   ],
   "execution_count": 83
  },
  {
   "metadata": {
    "ExecuteTime": {
     "end_time": "2024-12-28T17:14:12.526177Z",
     "start_time": "2024-12-28T17:14:12.522544Z"
    }
   },
   "cell_type": "code",
   "source": "arr_2d.sum(axis=1)",
   "id": "7a5330cf667265f7",
   "outputs": [
    {
     "data": {
      "text/plain": [
       "array([ 10,  35,  60,  85, 110])"
      ]
     },
     "execution_count": 84,
     "metadata": {},
     "output_type": "execute_result"
    }
   ],
   "execution_count": 84
  },
  {
   "metadata": {},
   "cell_type": "markdown",
   "source": "## Exercises",
   "id": "edc757113735a690"
  },
  {
   "metadata": {
    "ExecuteTime": {
     "end_time": "2024-12-28T17:14:13.497772Z",
     "start_time": "2024-12-28T17:14:13.494920Z"
    }
   },
   "cell_type": "code",
   "source": "np.zeros(10)",
   "id": "aaf74e58ccb2b9cc",
   "outputs": [
    {
     "data": {
      "text/plain": [
       "array([0., 0., 0., 0., 0., 0., 0., 0., 0., 0.])"
      ]
     },
     "execution_count": 85,
     "metadata": {},
     "output_type": "execute_result"
    }
   ],
   "execution_count": 85
  },
  {
   "metadata": {
    "ExecuteTime": {
     "end_time": "2024-12-28T17:14:13.951544Z",
     "start_time": "2024-12-28T17:14:13.947781Z"
    }
   },
   "cell_type": "code",
   "source": "np.ones(10)",
   "id": "51f099144977a24",
   "outputs": [
    {
     "data": {
      "text/plain": [
       "array([1., 1., 1., 1., 1., 1., 1., 1., 1., 1.])"
      ]
     },
     "execution_count": 86,
     "metadata": {},
     "output_type": "execute_result"
    }
   ],
   "execution_count": 86
  },
  {
   "metadata": {
    "ExecuteTime": {
     "end_time": "2024-12-28T17:14:14.337243Z",
     "start_time": "2024-12-28T17:14:14.334087Z"
    }
   },
   "cell_type": "code",
   "source": "np.full(10, 5)",
   "id": "a7a424dcb2026dbf",
   "outputs": [
    {
     "data": {
      "text/plain": [
       "array([5, 5, 5, 5, 5, 5, 5, 5, 5, 5])"
      ]
     },
     "execution_count": 87,
     "metadata": {},
     "output_type": "execute_result"
    }
   ],
   "execution_count": 87
  },
  {
   "metadata": {
    "ExecuteTime": {
     "end_time": "2024-12-28T17:14:14.766963Z",
     "start_time": "2024-12-28T17:14:14.763157Z"
    }
   },
   "cell_type": "code",
   "source": "np.arange(10, 51)",
   "id": "fd1082a1954917d3",
   "outputs": [
    {
     "data": {
      "text/plain": [
       "array([10, 11, 12, 13, 14, 15, 16, 17, 18, 19, 20, 21, 22, 23, 24, 25, 26,\n",
       "       27, 28, 29, 30, 31, 32, 33, 34, 35, 36, 37, 38, 39, 40, 41, 42, 43,\n",
       "       44, 45, 46, 47, 48, 49, 50])"
      ]
     },
     "execution_count": 88,
     "metadata": {},
     "output_type": "execute_result"
    }
   ],
   "execution_count": 88
  },
  {
   "metadata": {
    "ExecuteTime": {
     "end_time": "2024-12-28T17:14:15.196161Z",
     "start_time": "2024-12-28T17:14:15.192170Z"
    }
   },
   "cell_type": "code",
   "source": "np.arange(10, 51, 2)",
   "id": "ab927e2ebcce7b63",
   "outputs": [
    {
     "data": {
      "text/plain": [
       "array([10, 12, 14, 16, 18, 20, 22, 24, 26, 28, 30, 32, 34, 36, 38, 40, 42,\n",
       "       44, 46, 48, 50])"
      ]
     },
     "execution_count": 89,
     "metadata": {},
     "output_type": "execute_result"
    }
   ],
   "execution_count": 89
  },
  {
   "metadata": {
    "ExecuteTime": {
     "end_time": "2024-12-28T17:14:15.643961Z",
     "start_time": "2024-12-28T17:14:15.640774Z"
    }
   },
   "cell_type": "code",
   "source": "np.arange(9).reshape(3, 3)",
   "id": "483ca869ee5eed95",
   "outputs": [
    {
     "data": {
      "text/plain": [
       "array([[0, 1, 2],\n",
       "       [3, 4, 5],\n",
       "       [6, 7, 8]])"
      ]
     },
     "execution_count": 90,
     "metadata": {},
     "output_type": "execute_result"
    }
   ],
   "execution_count": 90
  },
  {
   "metadata": {
    "ExecuteTime": {
     "end_time": "2024-12-28T17:14:16.028801Z",
     "start_time": "2024-12-28T17:14:16.025470Z"
    }
   },
   "cell_type": "code",
   "source": "np.eye(3)",
   "id": "54838fe597bb169c",
   "outputs": [
    {
     "data": {
      "text/plain": [
       "array([[1., 0., 0.],\n",
       "       [0., 1., 0.],\n",
       "       [0., 0., 1.]])"
      ]
     },
     "execution_count": 91,
     "metadata": {},
     "output_type": "execute_result"
    }
   ],
   "execution_count": 91
  },
  {
   "metadata": {
    "ExecuteTime": {
     "end_time": "2024-12-28T17:14:16.521244Z",
     "start_time": "2024-12-28T17:14:16.517865Z"
    }
   },
   "cell_type": "code",
   "source": "np.random.rand(1)",
   "id": "62729d0086431c3c",
   "outputs": [
    {
     "data": {
      "text/plain": [
       "array([0.96990985])"
      ]
     },
     "execution_count": 92,
     "metadata": {},
     "output_type": "execute_result"
    }
   ],
   "execution_count": 92
  },
  {
   "metadata": {
    "ExecuteTime": {
     "end_time": "2024-12-28T17:14:17.000182Z",
     "start_time": "2024-12-28T17:14:16.996923Z"
    }
   },
   "cell_type": "code",
   "source": "np.random.randn(25)",
   "id": "39847cbe8673784c",
   "outputs": [
    {
     "data": {
      "text/plain": [
       "array([-0.46947439,  0.54256004, -0.46341769, -0.46572975,  0.24196227,\n",
       "       -1.91328024, -1.72491783, -0.56228753, -1.01283112,  0.31424733,\n",
       "       -0.90802408, -1.4123037 ,  1.46564877, -0.2257763 ,  0.0675282 ,\n",
       "       -1.42474819, -0.54438272,  0.11092259, -1.15099358,  0.37569802,\n",
       "       -0.60063869, -0.29169375, -0.60170661,  1.85227818, -0.01349722])"
      ]
     },
     "execution_count": 93,
     "metadata": {},
     "output_type": "execute_result"
    }
   ],
   "execution_count": 93
  },
  {
   "metadata": {
    "ExecuteTime": {
     "end_time": "2024-12-28T17:14:17.489742Z",
     "start_time": "2024-12-28T17:14:17.486182Z"
    }
   },
   "cell_type": "code",
   "source": "np.linspace(0.01, 1, 100).reshape(10, 10)",
   "id": "539d27ac6b0ea8a1",
   "outputs": [
    {
     "data": {
      "text/plain": [
       "array([[0.01, 0.02, 0.03, 0.04, 0.05, 0.06, 0.07, 0.08, 0.09, 0.1 ],\n",
       "       [0.11, 0.12, 0.13, 0.14, 0.15, 0.16, 0.17, 0.18, 0.19, 0.2 ],\n",
       "       [0.21, 0.22, 0.23, 0.24, 0.25, 0.26, 0.27, 0.28, 0.29, 0.3 ],\n",
       "       [0.31, 0.32, 0.33, 0.34, 0.35, 0.36, 0.37, 0.38, 0.39, 0.4 ],\n",
       "       [0.41, 0.42, 0.43, 0.44, 0.45, 0.46, 0.47, 0.48, 0.49, 0.5 ],\n",
       "       [0.51, 0.52, 0.53, 0.54, 0.55, 0.56, 0.57, 0.58, 0.59, 0.6 ],\n",
       "       [0.61, 0.62, 0.63, 0.64, 0.65, 0.66, 0.67, 0.68, 0.69, 0.7 ],\n",
       "       [0.71, 0.72, 0.73, 0.74, 0.75, 0.76, 0.77, 0.78, 0.79, 0.8 ],\n",
       "       [0.81, 0.82, 0.83, 0.84, 0.85, 0.86, 0.87, 0.88, 0.89, 0.9 ],\n",
       "       [0.91, 0.92, 0.93, 0.94, 0.95, 0.96, 0.97, 0.98, 0.99, 1.  ]])"
      ]
     },
     "execution_count": 94,
     "metadata": {},
     "output_type": "execute_result"
    }
   ],
   "execution_count": 94
  },
  {
   "metadata": {
    "ExecuteTime": {
     "end_time": "2024-12-28T17:14:18.002233Z",
     "start_time": "2024-12-28T17:14:17.999048Z"
    }
   },
   "cell_type": "code",
   "source": "np.linspace(0, 1, 20)",
   "id": "940e235a909237ee",
   "outputs": [
    {
     "data": {
      "text/plain": [
       "array([0.        , 0.05263158, 0.10526316, 0.15789474, 0.21052632,\n",
       "       0.26315789, 0.31578947, 0.36842105, 0.42105263, 0.47368421,\n",
       "       0.52631579, 0.57894737, 0.63157895, 0.68421053, 0.73684211,\n",
       "       0.78947368, 0.84210526, 0.89473684, 0.94736842, 1.        ])"
      ]
     },
     "execution_count": 95,
     "metadata": {},
     "output_type": "execute_result"
    }
   ],
   "execution_count": 95
  },
  {
   "metadata": {
    "ExecuteTime": {
     "end_time": "2024-12-28T17:14:18.543036Z",
     "start_time": "2024-12-28T17:14:18.540822Z"
    }
   },
   "cell_type": "code",
   "source": "mat = np.arange(1, 26).reshape(5, 5)",
   "id": "3afc29db5da6b38a",
   "outputs": [],
   "execution_count": 96
  },
  {
   "metadata": {
    "ExecuteTime": {
     "end_time": "2024-12-28T17:14:18.934971Z",
     "start_time": "2024-12-28T17:14:18.932039Z"
    }
   },
   "cell_type": "code",
   "source": "mat",
   "id": "c7f74a44b9e123b3",
   "outputs": [
    {
     "data": {
      "text/plain": [
       "array([[ 1,  2,  3,  4,  5],\n",
       "       [ 6,  7,  8,  9, 10],\n",
       "       [11, 12, 13, 14, 15],\n",
       "       [16, 17, 18, 19, 20],\n",
       "       [21, 22, 23, 24, 25]])"
      ]
     },
     "execution_count": 97,
     "metadata": {},
     "output_type": "execute_result"
    }
   ],
   "execution_count": 97
  },
  {
   "metadata": {
    "ExecuteTime": {
     "end_time": "2024-12-28T17:14:19.512127Z",
     "start_time": "2024-12-28T17:14:19.508527Z"
    }
   },
   "cell_type": "code",
   "source": "mat[2:, 1:]",
   "id": "363bc827c0dd332b",
   "outputs": [
    {
     "data": {
      "text/plain": [
       "array([[12, 13, 14, 15],\n",
       "       [17, 18, 19, 20],\n",
       "       [22, 23, 24, 25]])"
      ]
     },
     "execution_count": 98,
     "metadata": {},
     "output_type": "execute_result"
    }
   ],
   "execution_count": 98
  },
  {
   "metadata": {
    "ExecuteTime": {
     "end_time": "2024-12-28T17:14:19.951331Z",
     "start_time": "2024-12-28T17:14:19.948316Z"
    }
   },
   "cell_type": "code",
   "source": "mat[3, 4]",
   "id": "66bda3666ccfbf86",
   "outputs": [
    {
     "data": {
      "text/plain": [
       "20"
      ]
     },
     "execution_count": 99,
     "metadata": {},
     "output_type": "execute_result"
    }
   ],
   "execution_count": 99
  },
  {
   "metadata": {
    "ExecuteTime": {
     "end_time": "2024-12-28T17:14:20.378753Z",
     "start_time": "2024-12-28T17:14:20.375740Z"
    }
   },
   "cell_type": "code",
   "source": "mat[:3, 1:2]",
   "id": "f08921a540d931b5",
   "outputs": [
    {
     "data": {
      "text/plain": [
       "array([[ 2],\n",
       "       [ 7],\n",
       "       [12]])"
      ]
     },
     "execution_count": 100,
     "metadata": {},
     "output_type": "execute_result"
    }
   ],
   "execution_count": 100
  },
  {
   "metadata": {
    "ExecuteTime": {
     "end_time": "2024-12-28T17:14:20.815584Z",
     "start_time": "2024-12-28T17:14:20.812726Z"
    }
   },
   "cell_type": "code",
   "source": "mat[4, :]",
   "id": "7961f17610731968",
   "outputs": [
    {
     "data": {
      "text/plain": [
       "array([21, 22, 23, 24, 25])"
      ]
     },
     "execution_count": 101,
     "metadata": {},
     "output_type": "execute_result"
    }
   ],
   "execution_count": 101
  },
  {
   "metadata": {
    "ExecuteTime": {
     "end_time": "2024-12-28T17:14:21.225742Z",
     "start_time": "2024-12-28T17:14:21.222535Z"
    }
   },
   "cell_type": "code",
   "source": "mat[3:, :]",
   "id": "a45337a68739c810",
   "outputs": [
    {
     "data": {
      "text/plain": [
       "array([[16, 17, 18, 19, 20],\n",
       "       [21, 22, 23, 24, 25]])"
      ]
     },
     "execution_count": 102,
     "metadata": {},
     "output_type": "execute_result"
    }
   ],
   "execution_count": 102
  },
  {
   "metadata": {
    "ExecuteTime": {
     "end_time": "2024-12-28T17:14:21.627775Z",
     "start_time": "2024-12-28T17:14:21.624558Z"
    }
   },
   "cell_type": "code",
   "source": "mat.sum()",
   "id": "13caf9d57964bfc5",
   "outputs": [
    {
     "data": {
      "text/plain": [
       "325"
      ]
     },
     "execution_count": 103,
     "metadata": {},
     "output_type": "execute_result"
    }
   ],
   "execution_count": 103
  },
  {
   "metadata": {
    "ExecuteTime": {
     "end_time": "2024-12-28T17:14:22.021004Z",
     "start_time": "2024-12-28T17:14:22.017261Z"
    }
   },
   "cell_type": "code",
   "source": "mat.std()",
   "id": "8cfc426c129ab757",
   "outputs": [
    {
     "data": {
      "text/plain": [
       "7.211102550927978"
      ]
     },
     "execution_count": 104,
     "metadata": {},
     "output_type": "execute_result"
    }
   ],
   "execution_count": 104
  },
  {
   "metadata": {
    "ExecuteTime": {
     "end_time": "2024-12-28T17:14:22.646498Z",
     "start_time": "2024-12-28T17:14:22.643076Z"
    }
   },
   "cell_type": "code",
   "source": "mat.sum(axis=0)",
   "id": "2dd02ef208013632",
   "outputs": [
    {
     "data": {
      "text/plain": [
       "array([55, 60, 65, 70, 75])"
      ]
     },
     "execution_count": 105,
     "metadata": {},
     "output_type": "execute_result"
    }
   ],
   "execution_count": 105
  },
  {
   "metadata": {
    "ExecuteTime": {
     "end_time": "2024-12-28T17:14:23.535549Z",
     "start_time": "2024-12-28T17:14:23.531740Z"
    }
   },
   "cell_type": "code",
   "source": [
    "np.random.seed(42)\n",
    "np.random.rand()"
   ],
   "id": "d94f8f9b422b09a",
   "outputs": [
    {
     "data": {
      "text/plain": [
       "0.3745401188473625"
      ]
     },
     "execution_count": 106,
     "metadata": {},
     "output_type": "execute_result"
    }
   ],
   "execution_count": 106
  },
  {
   "metadata": {},
   "cell_type": "code",
   "execution_count": null,
   "source": "",
   "id": "322a8e29d168b269",
   "outputs": []
  }
 ],
 "metadata": {
  "kernelspec": {
   "display_name": "Python 3",
   "language": "python",
   "name": "python3"
  },
  "language_info": {
   "codemirror_mode": {
    "name": "ipython",
    "version": 2
   },
   "file_extension": ".py",
   "mimetype": "text/x-python",
   "name": "python",
   "nbconvert_exporter": "python",
   "pygments_lexer": "ipython2",
   "version": "2.7.6"
  }
 },
 "nbformat": 4,
 "nbformat_minor": 5
}
