{
 "cells": [
  {
   "metadata": {},
   "cell_type": "markdown",
   "source": "# Section 4: NumPy",
   "id": "25c2ae11e13e622"
  },
  {
   "metadata": {
    "ExecuteTime": {
     "end_time": "2024-12-25T17:40:37.363222Z",
     "start_time": "2024-12-25T17:40:37.262433Z"
    }
   },
   "cell_type": "code",
   "source": "import numpy as np",
   "id": "81b37b1494ce2494",
   "execution_count": 2,
   "outputs": []
  },
  {
   "metadata": {},
   "cell_type": "markdown",
   "source": "## Arrays",
   "id": "8d08e2f414edf68"
  },
  {
   "metadata": {
    "ExecuteTime": {
     "end_time": "2024-12-25T17:40:38.485204Z",
     "start_time": "2024-12-25T17:40:38.482225Z"
    }
   },
   "cell_type": "code",
   "source": "my_list = [1, 2, 3]",
   "id": "b657099b3cb7f5",
   "execution_count": 3,
   "outputs": []
  },
  {
   "metadata": {
    "ExecuteTime": {
     "end_time": "2024-12-25T17:40:38.820587Z",
     "start_time": "2024-12-25T17:40:38.815771Z"
    }
   },
   "cell_type": "code",
   "source": "type(my_list)",
   "id": "f2116281a80fc733",
   "execution_count": 4,
   "outputs": []
  },
  {
   "metadata": {
    "ExecuteTime": {
     "end_time": "2024-12-25T17:40:40.238512Z",
     "start_time": "2024-12-25T17:40:40.234711Z"
    }
   },
   "cell_type": "code",
   "source": "np.array(my_list)",
   "id": "4ceb7d575c1bef7a",
   "execution_count": 5,
   "outputs": []
  },
  {
   "metadata": {
    "ExecuteTime": {
     "end_time": "2024-12-25T17:40:40.683002Z",
     "start_time": "2024-12-25T17:40:40.680492Z"
    }
   },
   "cell_type": "code",
   "source": "my_array = np.array(my_list)",
   "id": "6d7ab321253b3682",
   "execution_count": 6,
   "outputs": []
  },
  {
   "metadata": {
    "ExecuteTime": {
     "end_time": "2024-12-25T17:40:41.200849Z",
     "start_time": "2024-12-25T17:40:41.197534Z"
    }
   },
   "cell_type": "code",
   "source": "type(my_array)",
   "id": "ca1e18fba897b7b6",
   "execution_count": 7,
   "outputs": []
  },
  {
   "metadata": {
    "ExecuteTime": {
     "end_time": "2024-12-25T17:40:41.622412Z",
     "start_time": "2024-12-25T17:40:41.619879Z"
    }
   },
   "cell_type": "code",
   "source": "my_matrix = [[1, 2, 3], [4, 5, 6], [7, 8, 9]]",
   "id": "ba6350bfd085255a",
   "execution_count": 8,
   "outputs": []
  },
  {
   "metadata": {
    "ExecuteTime": {
     "end_time": "2024-12-25T17:40:41.944026Z",
     "start_time": "2024-12-25T17:40:41.939671Z"
    }
   },
   "cell_type": "code",
   "source": "np.array(my_matrix)",
   "id": "47f007129cd32823",
   "execution_count": 9,
   "outputs": []
  },
  {
   "metadata": {
    "ExecuteTime": {
     "end_time": "2024-12-25T17:40:42.512682Z",
     "start_time": "2024-12-25T17:40:42.509178Z"
    }
   },
   "cell_type": "code",
   "source": "np.arange(0, 10, 2)",
   "id": "3e8b6639f41e3745",
   "execution_count": 10,
   "outputs": []
  },
  {
   "metadata": {
    "ExecuteTime": {
     "end_time": "2024-12-25T17:40:42.674090Z",
     "start_time": "2024-12-25T17:40:42.670370Z"
    }
   },
   "cell_type": "code",
   "source": "np.zeros(5)",
   "id": "f7f5eef50b19f69e",
   "execution_count": 11,
   "outputs": []
  },
  {
   "metadata": {
    "ExecuteTime": {
     "end_time": "2024-12-25T17:40:43.148117Z",
     "start_time": "2024-12-25T17:40:43.144543Z"
    }
   },
   "cell_type": "code",
   "source": "np.zeros((2, 5))",
   "id": "80673a8c26b4f606",
   "execution_count": 12,
   "outputs": []
  },
  {
   "metadata": {
    "ExecuteTime": {
     "end_time": "2024-12-25T17:40:43.568590Z",
     "start_time": "2024-12-25T17:40:43.564851Z"
    }
   },
   "cell_type": "code",
   "source": "np.ones((4, 2))",
   "id": "32db6d900e604062",
   "execution_count": 13,
   "outputs": []
  },
  {
   "metadata": {
    "ExecuteTime": {
     "end_time": "2024-12-25T17:40:44.288836Z",
     "start_time": "2024-12-25T17:40:44.285318Z"
    }
   },
   "cell_type": "code",
   "source": "np.linspace(0, 5, 21)",
   "id": "f0a3cb61d4c2e838",
   "execution_count": 14,
   "outputs": []
  },
  {
   "metadata": {
    "ExecuteTime": {
     "end_time": "2024-12-25T17:40:44.932194Z",
     "start_time": "2024-12-25T17:40:44.927369Z"
    }
   },
   "cell_type": "code",
   "source": "np.eye(5)",
   "id": "66180b71da7f7623",
   "execution_count": 15,
   "outputs": []
  },
  {
   "metadata": {
    "ExecuteTime": {
     "end_time": "2024-12-25T17:40:45.448789Z",
     "start_time": "2024-12-25T17:40:45.445347Z"
    }
   },
   "cell_type": "code",
   "source": "np.random.rand(5, 6)",
   "id": "f3db2d59d28d27f9",
   "execution_count": 16,
   "outputs": []
  },
  {
   "metadata": {
    "ExecuteTime": {
     "end_time": "2024-12-25T17:40:46.082220Z",
     "start_time": "2024-12-25T17:40:46.078342Z"
    }
   },
   "cell_type": "code",
   "source": "np.random.randn(10)",
   "id": "f32a62aadfb725cc",
   "execution_count": 17,
   "outputs": []
  },
  {
   "metadata": {
    "ExecuteTime": {
     "end_time": "2024-12-25T17:40:46.604288Z",
     "start_time": "2024-12-25T17:40:46.600051Z"
    }
   },
   "cell_type": "code",
   "source": "np.random.randn(2, 3)",
   "id": "eb223e5cf04154cc",
   "execution_count": 18,
   "outputs": []
  },
  {
   "metadata": {
    "ExecuteTime": {
     "end_time": "2024-12-25T17:41:20.666624Z",
     "start_time": "2024-12-25T17:41:20.662716Z"
    }
   },
   "cell_type": "code",
   "source": "np.random.randint(0, 101, (4, 5))",
   "id": "1979d6ca908847ba",
   "execution_count": 21,
   "outputs": []
  },
  {
   "metadata": {
    "ExecuteTime": {
     "end_time": "2024-12-25T17:43:15.032297Z",
     "start_time": "2024-12-25T17:43:15.027193Z"
    }
   },
   "cell_type": "code",
   "source": [
    "np.random.seed(42)\n",
    "np.random.rand(4)"
   ],
   "id": "eff32b4fa377991b",
   "execution_count": 26,
   "outputs": []
  },
  {
   "metadata": {
    "ExecuteTime": {
     "end_time": "2024-12-25T17:52:51.383953Z",
     "start_time": "2024-12-25T17:52:51.381007Z"
    }
   },
   "cell_type": "code",
   "source": "arr = np.arange(0, 25)",
   "id": "e083106b093c908e",
   "execution_count": 67,
   "outputs": []
  },
  {
   "metadata": {
    "ExecuteTime": {
     "end_time": "2024-12-25T17:52:52.245724Z",
     "start_time": "2024-12-25T17:52:52.239228Z"
    }
   },
   "cell_type": "code",
   "source": "arr.reshape(5, 5)",
   "id": "c508aaef3fbcabc1",
   "execution_count": 68,
   "outputs": []
  },
  {
   "metadata": {
    "ExecuteTime": {
     "end_time": "2024-12-25T17:52:53.684546Z",
     "start_time": "2024-12-25T17:52:53.681274Z"
    }
   },
   "cell_type": "code",
   "source": "rand_arr = np.random.randint(0, 101, 10)",
   "id": "fe329f932501e043",
   "execution_count": 69,
   "outputs": []
  },
  {
   "metadata": {
    "ExecuteTime": {
     "end_time": "2024-12-25T17:52:54.395522Z",
     "start_time": "2024-12-25T17:52:54.391181Z"
    }
   },
   "cell_type": "code",
   "source": "rand_arr",
   "id": "187d7ca3281d70cc",
   "execution_count": 70,
   "outputs": []
  },
  {
   "metadata": {
    "ExecuteTime": {
     "end_time": "2024-12-25T17:52:54.841492Z",
     "start_time": "2024-12-25T17:52:54.838386Z"
    }
   },
   "cell_type": "code",
   "source": "rand_arr.max()",
   "id": "e91b2f9c1efd0b2",
   "execution_count": 71,
   "outputs": []
  },
  {
   "metadata": {
    "ExecuteTime": {
     "end_time": "2024-12-25T17:52:55.230208Z",
     "start_time": "2024-12-25T17:52:55.226758Z"
    }
   },
   "cell_type": "code",
   "source": "rand_arr.min()",
   "id": "c199cc33c9e49a27",
   "execution_count": 72,
   "outputs": []
  },
  {
   "metadata": {
    "ExecuteTime": {
     "end_time": "2024-12-25T17:52:58.123644Z",
     "start_time": "2024-12-25T17:52:58.118033Z"
    }
   },
   "cell_type": "code",
   "source": "rand_arr.argmax()",
   "id": "f01936f6d0de826d",
   "execution_count": 73,
   "outputs": []
  },
  {
   "metadata": {
    "ExecuteTime": {
     "end_time": "2024-12-25T17:52:59.665836Z",
     "start_time": "2024-12-25T17:52:59.661665Z"
    }
   },
   "cell_type": "code",
   "source": "rand_arr.argmin()",
   "id": "8db5a60f0356414d",
   "execution_count": 74,
   "outputs": []
  },
  {
   "metadata": {
    "ExecuteTime": {
     "end_time": "2024-12-25T17:53:04.681962Z",
     "start_time": "2024-12-25T17:53:04.679021Z"
    }
   },
   "cell_type": "code",
   "source": "rand_arr.dtype",
   "id": "5634d1facb3440f3",
   "execution_count": 75,
   "outputs": []
  },
  {
   "metadata": {
    "ExecuteTime": {
     "end_time": "2024-12-25T17:53:06.054328Z",
     "start_time": "2024-12-25T17:53:06.049714Z"
    }
   },
   "cell_type": "code",
   "source": "arr.shape",
   "id": "55da2f128b796313",
   "execution_count": 76,
   "outputs": []
  },
  {
   "metadata": {
    "ExecuteTime": {
     "end_time": "2024-12-25T17:53:08.145774Z",
     "start_time": "2024-12-25T17:53:08.142308Z"
    }
   },
   "cell_type": "code",
   "source": "arr = arr.reshape(5, 5)",
   "id": "35def4818f338bf",
   "execution_count": 77,
   "outputs": []
  },
  {
   "metadata": {
    "ExecuteTime": {
     "end_time": "2024-12-25T17:53:09.568112Z",
     "start_time": "2024-12-25T17:53:09.562987Z"
    }
   },
   "cell_type": "code",
   "source": "arr.shape",
   "id": "cc85521e066152e8",
   "execution_count": 78,
   "outputs": []
  },
  {
   "metadata": {
    "ExecuteTime": {
     "end_time": "2024-12-25T17:55:07.177640Z",
     "start_time": "2024-12-25T17:55:07.175396Z"
    }
   },
   "cell_type": "code",
   "source": "arr = arr.reshape(25, 1)",
   "id": "7f167f657b18d540",
   "execution_count": 80,
   "outputs": []
  },
  {
   "metadata": {
    "ExecuteTime": {
     "end_time": "2024-12-25T17:55:18.695191Z",
     "start_time": "2024-12-25T17:55:18.690764Z"
    }
   },
   "cell_type": "code",
   "source": "arr.shape",
   "id": "9f8a861d827d6ef3",
   "execution_count": 81,
   "outputs": []
  },
  {
   "metadata": {},
   "cell_type": "markdown",
   "source": "## Indexing and Selection",
   "id": "5875397d6d78ef37"
  },
  {
   "metadata": {
    "ExecuteTime": {
     "end_time": "2024-12-25T18:06:48.556763Z",
     "start_time": "2024-12-25T18:06:48.554270Z"
    }
   },
   "cell_type": "code",
   "source": "arr = np.arange(0, 11)",
   "id": "be62cff24c993e4f",
   "execution_count": 82,
   "outputs": []
  },
  {
   "metadata": {
    "ExecuteTime": {
     "end_time": "2024-12-25T18:06:51.358946Z",
     "start_time": "2024-12-25T18:06:51.355211Z"
    }
   },
   "cell_type": "code",
   "source": "arr",
   "id": "12e103e8e8f10efb",
   "execution_count": 83,
   "outputs": []
  },
  {
   "metadata": {
    "ExecuteTime": {
     "end_time": "2024-12-25T18:07:04.529134Z",
     "start_time": "2024-12-25T18:07:04.526140Z"
    }
   },
   "cell_type": "code",
   "source": "arr[8]",
   "id": "8b129689b4e1fe06",
   "execution_count": 84,
   "outputs": []
  },
  {
   "metadata": {
    "ExecuteTime": {
     "end_time": "2024-12-25T18:08:25.893529Z",
     "start_time": "2024-12-25T18:08:25.889396Z"
    }
   },
   "cell_type": "code",
   "source": "arr[1:5]",
   "id": "ecc4a3380d253b6f",
   "execution_count": 85,
   "outputs": []
  },
  {
   "metadata": {
    "ExecuteTime": {
     "end_time": "2024-12-25T18:08:32.208524Z",
     "start_time": "2024-12-25T18:08:32.205124Z"
    }
   },
   "cell_type": "code",
   "source": "arr[:5]",
   "id": "6a13e81ba37850a",
   "execution_count": 86,
   "outputs": []
  },
  {
   "metadata": {
    "ExecuteTime": {
     "end_time": "2024-12-25T18:08:56.384478Z",
     "start_time": "2024-12-25T18:08:56.381330Z"
    }
   },
   "cell_type": "code",
   "source": "arr[5:]",
   "id": "a53d24cf638f2d34",
   "execution_count": 87,
   "outputs": []
  },
  {
   "metadata": {
    "ExecuteTime": {
     "end_time": "2024-12-25T18:09:35.213960Z",
     "start_time": "2024-12-25T18:09:35.209518Z"
    }
   },
   "cell_type": "code",
   "source": "arr",
   "id": "fe7ff742d1dee7c5",
   "execution_count": 88,
   "outputs": []
  },
  {
   "metadata": {
    "ExecuteTime": {
     "end_time": "2024-12-25T18:09:46.290866Z",
     "start_time": "2024-12-25T18:09:46.288501Z"
    }
   },
   "cell_type": "code",
   "source": "arr[:5] = 100",
   "id": "bd443d8b4ce85812",
   "execution_count": 89,
   "outputs": []
  },
  {
   "metadata": {
    "ExecuteTime": {
     "end_time": "2024-12-25T18:09:48.106536Z",
     "start_time": "2024-12-25T18:09:48.101931Z"
    }
   },
   "cell_type": "code",
   "source": "arr",
   "id": "15bb7268cf24d05e",
   "execution_count": 90,
   "outputs": []
  },
  {
   "metadata": {
    "ExecuteTime": {
     "end_time": "2024-12-25T18:10:27.859204Z",
     "start_time": "2024-12-25T18:10:27.856531Z"
    }
   },
   "cell_type": "code",
   "source": "arr = np.arange(0, 11)",
   "id": "1bb425d495ef8479",
   "execution_count": 91,
   "outputs": []
  },
  {
   "metadata": {
    "ExecuteTime": {
     "end_time": "2024-12-25T18:11:13.157124Z",
     "start_time": "2024-12-25T18:11:13.154474Z"
    }
   },
   "cell_type": "code",
   "source": "slice_of_arr = arr[0:5]",
   "id": "68407497b3e43936",
   "execution_count": 92,
   "outputs": []
  },
  {
   "metadata": {
    "ExecuteTime": {
     "end_time": "2024-12-25T18:11:16.174716Z",
     "start_time": "2024-12-25T18:11:16.170821Z"
    }
   },
   "cell_type": "code",
   "source": "slice_of_arr",
   "id": "c70e4bf82ce76c4f",
   "execution_count": 93,
   "outputs": []
  },
  {
   "metadata": {
    "ExecuteTime": {
     "end_time": "2024-12-25T18:11:19.776843Z",
     "start_time": "2024-12-25T18:11:19.772663Z"
    }
   },
   "cell_type": "code",
   "source": "arr",
   "id": "f0015b85418bdb27",
   "execution_count": 94,
   "outputs": []
  },
  {
   "metadata": {
    "ExecuteTime": {
     "end_time": "2024-12-25T18:11:40.380629Z",
     "start_time": "2024-12-25T18:11:40.377832Z"
    }
   },
   "cell_type": "code",
   "source": "slice_of_arr[:] = 99",
   "id": "c762250f12420358",
   "execution_count": 95,
   "outputs": []
  },
  {
   "metadata": {
    "ExecuteTime": {
     "end_time": "2024-12-25T18:11:42.307251Z",
     "start_time": "2024-12-25T18:11:42.304140Z"
    }
   },
   "cell_type": "code",
   "source": "slice_of_arr",
   "id": "eff9ffdb4eab47dc",
   "execution_count": 96,
   "outputs": []
  },
  {
   "metadata": {
    "ExecuteTime": {
     "end_time": "2024-12-25T18:11:47.788110Z",
     "start_time": "2024-12-25T18:11:47.784461Z"
    }
   },
   "cell_type": "code",
   "source": "arr",
   "id": "3ab0a83f57f73e95",
   "execution_count": 97,
   "outputs": []
  },
  {
   "metadata": {
    "ExecuteTime": {
     "end_time": "2024-12-25T18:12:26.559920Z",
     "start_time": "2024-12-25T18:12:26.557673Z"
    }
   },
   "cell_type": "code",
   "source": "arr_copy = arr.copy()",
   "id": "f46effc08dff13b0",
   "execution_count": 98,
   "outputs": []
  },
  {
   "metadata": {
    "ExecuteTime": {
     "end_time": "2024-12-25T18:12:36.413384Z",
     "start_time": "2024-12-25T18:12:36.411230Z"
    }
   },
   "cell_type": "code",
   "source": "arr_copy[:] = 100",
   "id": "46b31b6fc32ab4ab",
   "execution_count": 99,
   "outputs": []
  },
  {
   "metadata": {
    "ExecuteTime": {
     "end_time": "2024-12-25T18:12:38.676664Z",
     "start_time": "2024-12-25T18:12:38.672944Z"
    }
   },
   "cell_type": "code",
   "source": "arr_copy",
   "id": "d15a4a3fdf14244d",
   "execution_count": 100,
   "outputs": []
  },
  {
   "metadata": {
    "ExecuteTime": {
     "end_time": "2024-12-25T18:12:44.184264Z",
     "start_time": "2024-12-25T18:12:44.179887Z"
    }
   },
   "cell_type": "code",
   "source": "arr",
   "id": "f46b3d54a5676587",
   "execution_count": 101,
   "outputs": []
  },
  {
   "metadata": {
    "ExecuteTime": {
     "end_time": "2024-12-25T18:14:51.162708Z",
     "start_time": "2024-12-25T18:14:51.159373Z"
    }
   },
   "cell_type": "code",
   "source": "arr_2d = np.array([[5, 10, 15], [20, 25, 30], [35, 40, 45]])",
   "id": "9548b6a3db118bdf",
   "execution_count": 102,
   "outputs": []
  },
  {
   "metadata": {
    "ExecuteTime": {
     "end_time": "2024-12-25T18:14:54.537506Z",
     "start_time": "2024-12-25T18:14:54.533644Z"
    }
   },
   "cell_type": "code",
   "source": "arr_2d",
   "id": "e4b8f2679740c6c3",
   "execution_count": 103,
   "outputs": []
  },
  {
   "metadata": {
    "ExecuteTime": {
     "end_time": "2024-12-25T18:16:35.932657Z",
     "start_time": "2024-12-25T18:16:35.929181Z"
    }
   },
   "cell_type": "code",
   "source": "arr_2d.shape",
   "id": "e19052ae29e897a8",
   "execution_count": 106,
   "outputs": []
  },
  {
   "metadata": {
    "ExecuteTime": {
     "end_time": "2024-12-25T18:25:39.001467Z",
     "start_time": "2024-12-25T18:25:38.998165Z"
    }
   },
   "cell_type": "code",
   "source": "arr_2d[0, 2]",
   "id": "25bd1a22a830c227",
   "execution_count": 130,
   "outputs": []
  },
  {
   "metadata": {
    "ExecuteTime": {
     "end_time": "2024-12-25T18:27:47.769993Z",
     "start_time": "2024-12-25T18:27:47.766749Z"
    }
   },
   "cell_type": "code",
   "source": "arr_2d[:2, 1:]",
   "id": "8f442de2edcb59b1",
   "execution_count": 133,
   "outputs": []
  },
  {
   "metadata": {
    "ExecuteTime": {
     "end_time": "2024-12-25T18:28:15.109674Z",
     "start_time": "2024-12-25T18:28:15.106907Z"
    }
   },
   "cell_type": "code",
   "source": "arr = np.arange(1, 11)    ",
   "id": "b1f11d099c03b117",
   "execution_count": 134,
   "outputs": []
  },
  {
   "metadata": {
    "ExecuteTime": {
     "end_time": "2024-12-25T18:28:17.511852Z",
     "start_time": "2024-12-25T18:28:17.508503Z"
    }
   },
   "cell_type": "code",
   "source": "arr",
   "id": "5324dead88b2d98f",
   "execution_count": 135,
   "outputs": []
  },
  {
   "metadata": {
    "ExecuteTime": {
     "end_time": "2024-12-25T18:28:26.748410Z",
     "start_time": "2024-12-25T18:28:26.745186Z"
    }
   },
   "cell_type": "code",
   "source": "arr > 4",
   "id": "8b105a2e20ef34fe",
   "execution_count": 136,
   "outputs": []
  },
  {
   "metadata": {
    "ExecuteTime": {
     "end_time": "2024-12-25T18:28:51.799077Z",
     "start_time": "2024-12-25T18:28:51.796769Z"
    }
   },
   "cell_type": "code",
   "source": "bool_arr = arr > 4",
   "id": "544135513f59c969",
   "execution_count": 137,
   "outputs": []
  },
  {
   "metadata": {
    "ExecuteTime": {
     "end_time": "2024-12-25T18:28:58.170376Z",
     "start_time": "2024-12-25T18:28:58.167335Z"
    }
   },
   "cell_type": "code",
   "source": "bool_arr",
   "id": "1173e61b8df2f462",
   "execution_count": 138,
   "outputs": []
  },
  {
   "metadata": {
    "ExecuteTime": {
     "end_time": "2024-12-25T18:29:05.262784Z",
     "start_time": "2024-12-25T18:29:05.259754Z"
    }
   },
   "cell_type": "code",
   "source": "arr[bool_arr]",
   "id": "8fe613e149c1c99a",
   "execution_count": 139,
   "outputs": []
  },
  {
   "metadata": {
    "ExecuteTime": {
     "end_time": "2024-12-25T18:29:45.588564Z",
     "start_time": "2024-12-25T18:29:45.585095Z"
    }
   },
   "cell_type": "code",
   "source": "arr[arr > 4]",
   "id": "5fc1d1e529f7b3f4",
   "execution_count": 140,
   "outputs": []
  },
  {
   "metadata": {},
   "cell_type": "markdown",
   "source": "## Operations",
   "id": "54494a878d5b3648"
  },
  {
   "metadata": {
    "ExecuteTime": {
     "end_time": "2024-12-25T18:39:56.031331Z",
     "start_time": "2024-12-25T18:39:56.028911Z"
    }
   },
   "cell_type": "code",
   "source": "arr = np.arange(0, 10)",
   "id": "444fac5907435d41",
   "execution_count": 142,
   "outputs": []
  },
  {
   "metadata": {
    "ExecuteTime": {
     "end_time": "2024-12-25T18:39:58.604341Z",
     "start_time": "2024-12-25T18:39:58.600798Z"
    }
   },
   "cell_type": "code",
   "source": "arr",
   "id": "ca6d698900807e35",
   "execution_count": 143,
   "outputs": []
  },
  {
   "metadata": {
    "ExecuteTime": {
     "end_time": "2024-12-25T18:40:01.596470Z",
     "start_time": "2024-12-25T18:40:01.593304Z"
    }
   },
   "cell_type": "code",
   "source": "arr + 5",
   "id": "e83d8af0ad102be3",
   "execution_count": 144,
   "outputs": []
  },
  {
   "metadata": {
    "ExecuteTime": {
     "end_time": "2024-12-25T18:40:15.091113Z",
     "start_time": "2024-12-25T18:40:15.087905Z"
    }
   },
   "cell_type": "code",
   "source": "arr - 2",
   "id": "c863a84bacfde625",
   "execution_count": 145,
   "outputs": []
  },
  {
   "metadata": {
    "ExecuteTime": {
     "end_time": "2024-12-25T18:40:20.558108Z",
     "start_time": "2024-12-25T18:40:20.554899Z"
    }
   },
   "cell_type": "code",
   "source": "arr + arr",
   "id": "4f1e3e582122b6a3",
   "execution_count": 146,
   "outputs": []
  },
  {
   "metadata": {
    "ExecuteTime": {
     "end_time": "2024-12-25T18:40:27.971810Z",
     "start_time": "2024-12-25T18:40:27.967782Z"
    }
   },
   "cell_type": "code",
   "source": "arr - arr",
   "id": "d09f35073d36f37b",
   "execution_count": 147,
   "outputs": []
  },
  {
   "metadata": {
    "ExecuteTime": {
     "end_time": "2024-12-25T18:40:44.754599Z",
     "start_time": "2024-12-25T18:40:44.751240Z"
    }
   },
   "cell_type": "code",
   "source": "arr * arr",
   "id": "70e462708b112ce2",
   "execution_count": 148,
   "outputs": []
  },
  {
   "metadata": {
    "ExecuteTime": {
     "end_time": "2024-12-25T18:46:23.408940Z",
     "start_time": "2024-12-25T18:46:23.405589Z"
    }
   },
   "cell_type": "code",
   "source": "np.sqrt(arr)",
   "id": "2c4004d5d45fd82",
   "execution_count": 152,
   "outputs": []
  },
  {
   "metadata": {
    "ExecuteTime": {
     "end_time": "2024-12-25T18:46:33.348001Z",
     "start_time": "2024-12-25T18:46:33.344399Z"
    }
   },
   "cell_type": "code",
   "source": "np.sin(arr)",
   "id": "bb0226512e1e7a1",
   "execution_count": 153,
   "outputs": []
  },
  {
   "metadata": {
    "ExecuteTime": {
     "end_time": "2024-12-25T18:48:42.890990Z",
     "start_time": "2024-12-25T18:48:42.887473Z"
    }
   },
   "cell_type": "code",
   "source": "arr",
   "id": "2dcafff5bedac804",
   "execution_count": 155,
   "outputs": []
  },
  {
   "metadata": {
    "ExecuteTime": {
     "end_time": "2024-12-25T18:49:00.427577Z",
     "start_time": "2024-12-25T18:49:00.424212Z"
    }
   },
   "cell_type": "code",
   "source": "arr.sum()",
   "id": "2823c8a9aa3cae08",
   "execution_count": 156,
   "outputs": []
  },
  {
   "metadata": {
    "ExecuteTime": {
     "end_time": "2024-12-25T18:49:16.119106Z",
     "start_time": "2024-12-25T18:49:16.115626Z"
    }
   },
   "cell_type": "code",
   "source": "arr.mean()",
   "id": "320abdb6b2f09dfc",
   "execution_count": 157,
   "outputs": []
  },
  {
   "metadata": {
    "ExecuteTime": {
     "end_time": "2024-12-25T18:49:29.833566Z",
     "start_time": "2024-12-25T18:49:29.830388Z"
    }
   },
   "cell_type": "code",
   "source": "arr.var()",
   "id": "6701841cde376c37",
   "execution_count": 158,
   "outputs": []
  },
  {
   "metadata": {
    "ExecuteTime": {
     "end_time": "2024-12-25T18:49:35.441610Z",
     "start_time": "2024-12-25T18:49:35.438307Z"
    }
   },
   "cell_type": "code",
   "source": "arr.std()",
   "id": "dd93a0b3783c4dc9",
   "execution_count": 159,
   "outputs": []
  },
  {
   "metadata": {
    "ExecuteTime": {
     "end_time": "2024-12-25T18:50:32.703595Z",
     "start_time": "2024-12-25T18:50:32.700643Z"
    }
   },
   "cell_type": "code",
   "source": "arr_2d = np.arange(0, 25).reshape(5, 5)",
   "id": "7607200b4697a084",
   "execution_count": 161,
   "outputs": []
  },
  {
   "metadata": {
    "ExecuteTime": {
     "end_time": "2024-12-25T18:50:43.932705Z",
     "start_time": "2024-12-25T18:50:43.929636Z"
    }
   },
   "cell_type": "code",
   "source": "arr_2d",
   "id": "47cbf1ab659d7f70",
   "execution_count": 162,
   "outputs": []
  },
  {
   "metadata": {
    "ExecuteTime": {
     "end_time": "2024-12-25T18:50:52.873793Z",
     "start_time": "2024-12-25T18:50:52.870681Z"
    }
   },
   "cell_type": "code",
   "source": "arr_2d.sum()",
   "id": "f04096d817f8e75e",
   "execution_count": 163,
   "outputs": []
  },
  {
   "metadata": {
    "ExecuteTime": {
     "end_time": "2024-12-25T18:53:41.671037Z",
     "start_time": "2024-12-25T18:53:41.666645Z"
    }
   },
   "cell_type": "code",
   "source": "arr_2d.sum(axis=0)",
   "id": "8796fec7c1ab1af2",
   "execution_count": 166,
   "outputs": []
  },
  {
   "metadata": {
    "ExecuteTime": {
     "end_time": "2024-12-25T18:54:22.963400Z",
     "start_time": "2024-12-25T18:54:22.959840Z"
    }
   },
   "cell_type": "code",
   "source": "arr_2d.sum(axis=1)",
   "id": "7a5330cf667265f7",
   "execution_count": 167,
   "outputs": []
  },
  {
   "metadata": {},
   "cell_type": "markdown",
   "source": "## Exercises",
   "id": "edc757113735a690"
  },
  {
   "metadata": {
    "ExecuteTime": {
     "end_time": "2024-12-25T19:01:51.933221Z",
     "start_time": "2024-12-25T19:01:51.929982Z"
    }
   },
   "cell_type": "code",
   "source": "np.zeros(10)",
   "id": "aaf74e58ccb2b9cc",
   "execution_count": 168,
   "outputs": []
  },
  {
   "metadata": {
    "ExecuteTime": {
     "end_time": "2024-12-25T19:01:56.237056Z",
     "start_time": "2024-12-25T19:01:56.233525Z"
    }
   },
   "cell_type": "code",
   "source": "np.ones(10)",
   "id": "51f099144977a24",
   "execution_count": 169,
   "outputs": []
  },
  {
   "metadata": {
    "ExecuteTime": {
     "end_time": "2024-12-25T19:03:36.580342Z",
     "start_time": "2024-12-25T19:03:36.576771Z"
    }
   },
   "cell_type": "code",
   "source": "np.full(10, 5)",
   "id": "a7a424dcb2026dbf",
   "execution_count": 171,
   "outputs": []
  },
  {
   "metadata": {
    "ExecuteTime": {
     "end_time": "2024-12-25T19:04:54.611773Z",
     "start_time": "2024-12-25T19:04:54.608395Z"
    }
   },
   "cell_type": "code",
   "source": "np.arange(10, 51)",
   "id": "fd1082a1954917d3",
   "execution_count": 172,
   "outputs": []
  },
  {
   "metadata": {
    "ExecuteTime": {
     "end_time": "2024-12-25T19:05:51.068729Z",
     "start_time": "2024-12-25T19:05:51.065076Z"
    }
   },
   "cell_type": "code",
   "source": "np.arange(10, 51, 2)",
   "id": "ab927e2ebcce7b63",
   "execution_count": 173,
   "outputs": []
  },
  {
   "metadata": {
    "ExecuteTime": {
     "end_time": "2024-12-25T19:06:55.474680Z",
     "start_time": "2024-12-25T19:06:55.470134Z"
    }
   },
   "cell_type": "code",
   "source": "np.arange(9).reshape(3, 3)",
   "id": "483ca869ee5eed95",
   "execution_count": 175,
   "outputs": []
  },
  {
   "metadata": {
    "ExecuteTime": {
     "end_time": "2024-12-25T19:08:21.341393Z",
     "start_time": "2024-12-25T19:08:21.338107Z"
    }
   },
   "cell_type": "code",
   "source": "np.eye(3)",
   "id": "54838fe597bb169c",
   "execution_count": 176,
   "outputs": []
  },
  {
   "metadata": {
    "ExecuteTime": {
     "end_time": "2024-12-25T19:30:28.164881Z",
     "start_time": "2024-12-25T19:30:28.161313Z"
    }
   },
   "cell_type": "code",
   "source": "np.random.rand(1)",
   "id": "62729d0086431c3c",
   "execution_count": 207,
   "outputs": []
  },
  {
   "metadata": {
    "ExecuteTime": {
     "end_time": "2024-12-25T19:09:30.422038Z",
     "start_time": "2024-12-25T19:09:30.418475Z"
    }
   },
   "cell_type": "code",
   "source": "np.random.randn(25)",
   "id": "39847cbe8673784c",
   "execution_count": 178,
   "outputs": []
  },
  {
   "metadata": {
    "ExecuteTime": {
     "end_time": "2024-12-25T19:15:50.033836Z",
     "start_time": "2024-12-25T19:15:50.030156Z"
    }
   },
   "cell_type": "code",
   "source": "np.linspace(0.01, 1, 100).reshape(10, 10)",
   "id": "539d27ac6b0ea8a1",
   "execution_count": 187,
   "outputs": []
  },
  {
   "metadata": {
    "ExecuteTime": {
     "end_time": "2024-12-25T19:16:12.776713Z",
     "start_time": "2024-12-25T19:16:12.773100Z"
    }
   },
   "cell_type": "code",
   "source": "np.linspace(0, 1, 20)",
   "id": "940e235a909237ee",
   "execution_count": 188,
   "outputs": []
  },
  {
   "metadata": {
    "ExecuteTime": {
     "end_time": "2024-12-25T19:17:19.966067Z",
     "start_time": "2024-12-25T19:17:19.963447Z"
    }
   },
   "cell_type": "code",
   "source": "mat = np.arange(1, 26).reshape(5, 5)",
   "id": "3afc29db5da6b38a",
   "execution_count": 189,
   "outputs": []
  },
  {
   "metadata": {
    "ExecuteTime": {
     "end_time": "2024-12-25T19:17:23.921980Z",
     "start_time": "2024-12-25T19:17:23.918978Z"
    }
   },
   "cell_type": "code",
   "source": "mat",
   "id": "c7f74a44b9e123b3",
   "execution_count": 190,
   "outputs": []
  },
  {
   "metadata": {
    "ExecuteTime": {
     "end_time": "2024-12-25T19:19:32.739499Z",
     "start_time": "2024-12-25T19:19:32.735527Z"
    }
   },
   "cell_type": "code",
   "source": "mat[2:, 1:]",
   "id": "363bc827c0dd332b",
   "execution_count": 192,
   "outputs": []
  },
  {
   "metadata": {
    "ExecuteTime": {
     "end_time": "2024-12-25T19:21:38.643056Z",
     "start_time": "2024-12-25T19:21:38.639859Z"
    }
   },
   "cell_type": "code",
   "source": "mat[3, 4]",
   "id": "66bda3666ccfbf86",
   "execution_count": 193,
   "outputs": []
  },
  {
   "metadata": {
    "ExecuteTime": {
     "end_time": "2024-12-25T19:25:17.200952Z",
     "start_time": "2024-12-25T19:25:17.197711Z"
    }
   },
   "cell_type": "code",
   "source": "mat[:3, 1:2]",
   "id": "f08921a540d931b5",
   "execution_count": 200,
   "outputs": []
  },
  {
   "metadata": {
    "ExecuteTime": {
     "end_time": "2024-12-25T19:26:07.285501Z",
     "start_time": "2024-12-25T19:26:07.282177Z"
    }
   },
   "cell_type": "code",
   "source": "mat[4, :]",
   "id": "7961f17610731968",
   "execution_count": 201,
   "outputs": []
  },
  {
   "metadata": {
    "ExecuteTime": {
     "end_time": "2024-12-25T19:34:38.750926Z",
     "start_time": "2024-12-25T19:34:38.747506Z"
    }
   },
   "cell_type": "code",
   "source": "mat[3:, :]",
   "id": "a45337a68739c810",
   "execution_count": 209,
   "outputs": []
  },
  {
   "metadata": {
    "ExecuteTime": {
     "end_time": "2024-12-25T19:26:59.860352Z",
     "start_time": "2024-12-25T19:26:59.857376Z"
    }
   },
   "cell_type": "code",
   "source": "mat.sum()",
   "id": "13caf9d57964bfc5",
   "execution_count": 203,
   "outputs": []
  },
  {
   "metadata": {
    "ExecuteTime": {
     "end_time": "2024-12-25T19:27:07.843793Z",
     "start_time": "2024-12-25T19:27:07.840826Z"
    }
   },
   "cell_type": "code",
   "source": "mat.std()",
   "id": "8cfc426c129ab757",
   "execution_count": 204,
   "outputs": []
  },
  {
   "metadata": {
    "ExecuteTime": {
     "end_time": "2024-12-25T19:27:23.829805Z",
     "start_time": "2024-12-25T19:27:23.826588Z"
    }
   },
   "cell_type": "code",
   "source": "mat.sum(axis=0)",
   "id": "2dd02ef208013632",
   "execution_count": 206,
   "outputs": []
  },
  {
   "metadata": {
    "ExecuteTime": {
     "end_time": "2024-12-25T19:37:12.569538Z",
     "start_time": "2024-12-25T19:37:12.565822Z"
    }
   },
   "cell_type": "code",
   "source": [
    "np.random.seed(42)\n",
    "np.random.rand()"
   ],
   "id": "d94f8f9b422b09a",
   "execution_count": 215,
   "outputs": []
  },
  {
   "metadata": {},
   "cell_type": "code",
   "execution_count": null,
   "source": "",
   "id": "322a8e29d168b269",
   "outputs": []
  }
 ],
 "metadata": {
  "kernelspec": {
   "display_name": "Python 3",
   "language": "python",
   "name": "python3"
  },
  "language_info": {
   "codemirror_mode": {
    "name": "ipython",
    "version": 2
   },
   "file_extension": ".py",
   "mimetype": "text/x-python",
   "name": "python",
   "nbconvert_exporter": "python",
   "pygments_lexer": "ipython2",
   "version": "2.7.6"
  }
 },
 "nbformat": 4,
 "nbformat_minor": 5
}
