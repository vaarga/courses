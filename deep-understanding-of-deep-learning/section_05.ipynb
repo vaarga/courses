{
 "cells": [
  {
   "metadata": {},
   "cell_type": "markdown",
   "source": "# Section 5: Math, numpy, PyTorch",
   "id": "25c2ae11e13e622"
  },
  {
   "metadata": {
    "ExecuteTime": {
     "end_time": "2025-05-31T14:50:03.326500Z",
     "start_time": "2025-05-31T14:50:01.891313Z"
    }
   },
   "cell_type": "code",
   "source": [
    "import numpy as np\n",
    "import torch\n",
    "import torch.nn as nn\n",
    "import torch.nn.functional as F\n",
    "import matplotlib.pyplot as plt\n",
    "import scipy.stats as stats\n",
    "import sympy as sym\n",
    "import sympy.plotting.plot as symplot\n",
    "from IPython.display import display"
   ],
   "id": "81b37b1494ce2494",
   "outputs": [],
   "execution_count": 1
  },
  {
   "metadata": {},
   "cell_type": "markdown",
   "source": "## Transpose",
   "id": "dded5bd44d699ae8"
  },
  {
   "metadata": {
    "ExecuteTime": {
     "end_time": "2025-05-31T14:50:03.331926Z",
     "start_time": "2025-05-31T14:50:03.327957Z"
    }
   },
   "cell_type": "code",
   "source": [
    "n_v = np.array([[1, 2, 3, 4]])\n",
    "\n",
    "print(n_v)\n",
    "print()\n",
    "\n",
    "n_v_T = n_v.T\n",
    "\n",
    "print(n_v_T)\n",
    "print()\n",
    "print(n_v_T.T)"
   ],
   "id": "322a8e29d168b269",
   "outputs": [
    {
     "name": "stdout",
     "output_type": "stream",
     "text": [
      "[[1 2 3 4]]\n",
      "\n",
      "[[1]\n",
      " [2]\n",
      " [3]\n",
      " [4]]\n",
      "\n",
      "[[1 2 3 4]]\n"
     ]
    }
   ],
   "execution_count": 2
  },
  {
   "metadata": {
    "ExecuteTime": {
     "end_time": "2025-05-31T14:50:03.336128Z",
     "start_time": "2025-05-31T14:50:03.333037Z"
    }
   },
   "cell_type": "code",
   "source": [
    "n_M = np.array([\n",
    "    [1, 2, 3, 4],\n",
    "    [5, 6, 7, 8]\n",
    "])\n",
    "\n",
    "print(n_M)\n",
    "print()\n",
    "\n",
    "n_M_T = n_M.T\n",
    "\n",
    "print(n_M_T)\n",
    "print()\n",
    "print(n_M_T.T)"
   ],
   "id": "a303cadaa88df994",
   "outputs": [
    {
     "name": "stdout",
     "output_type": "stream",
     "text": [
      "[[1 2 3 4]\n",
      " [5 6 7 8]]\n",
      "\n",
      "[[1 5]\n",
      " [2 6]\n",
      " [3 7]\n",
      " [4 8]]\n",
      "\n",
      "[[1 2 3 4]\n",
      " [5 6 7 8]]\n"
     ]
    }
   ],
   "execution_count": 3
  },
  {
   "metadata": {
    "ExecuteTime": {
     "end_time": "2025-05-31T14:50:03.341844Z",
     "start_time": "2025-05-31T14:50:03.337921Z"
    }
   },
   "cell_type": "code",
   "source": [
    "t_v = torch.tensor([[1, 2, 3, 4]])\n",
    "\n",
    "print(t_v)\n",
    "print()\n",
    "\n",
    "t_v_T = t_v.T\n",
    "\n",
    "print(t_v)\n",
    "print()\n",
    "print(t_v_T.T)"
   ],
   "id": "6b8bd5fc5c41ea34",
   "outputs": [
    {
     "name": "stdout",
     "output_type": "stream",
     "text": [
      "tensor([[1, 2, 3, 4]])\n",
      "\n",
      "tensor([[1, 2, 3, 4]])\n",
      "\n",
      "tensor([[1, 2, 3, 4]])\n"
     ]
    }
   ],
   "execution_count": 4
  },
  {
   "metadata": {
    "ExecuteTime": {
     "end_time": "2025-05-31T14:50:03.346118Z",
     "start_time": "2025-05-31T14:50:03.342707Z"
    }
   },
   "cell_type": "code",
   "source": [
    "t_M = torch.tensor([\n",
    "    [1, 2, 3, 4],\n",
    "    [5, 6, 7, 8]\n",
    "])\n",
    "\n",
    "print(t_M)\n",
    "print()\n",
    "\n",
    "t_M_T = t_M.T\n",
    "\n",
    "print(t_M_T)\n",
    "print()\n",
    "print(t_M_T.T)"
   ],
   "id": "83243676ccd9778f",
   "outputs": [
    {
     "name": "stdout",
     "output_type": "stream",
     "text": [
      "tensor([[1, 2, 3, 4],\n",
      "        [5, 6, 7, 8]])\n",
      "\n",
      "tensor([[1, 5],\n",
      "        [2, 6],\n",
      "        [3, 7],\n",
      "        [4, 8]])\n",
      "\n",
      "tensor([[1, 2, 3, 4],\n",
      "        [5, 6, 7, 8]])\n"
     ]
    }
   ],
   "execution_count": 5
  },
  {
   "metadata": {
    "ExecuteTime": {
     "end_time": "2025-05-31T14:50:03.350031Z",
     "start_time": "2025-05-31T14:50:03.346909Z"
    }
   },
   "cell_type": "code",
   "source": [
    "print(f\"Variable n_v is of type: {type(n_v)}.\")\n",
    "print(f\"Variable n_M is of type: {type(n_M)}.\")\n",
    "print(f\"Variable t_v is of type: {type(t_v)}.\")\n",
    "print(f\"Variable t_M is of type: {type(t_M)}.\")"
   ],
   "id": "1e251d6c2ef6a173",
   "outputs": [
    {
     "name": "stdout",
     "output_type": "stream",
     "text": [
      "Variable n_v is of type: <class 'numpy.ndarray'>.\n",
      "Variable n_M is of type: <class 'numpy.ndarray'>.\n",
      "Variable t_v is of type: <class 'torch.Tensor'>.\n",
      "Variable t_M is of type: <class 'torch.Tensor'>.\n"
     ]
    }
   ],
   "execution_count": 6
  },
  {
   "metadata": {},
   "cell_type": "markdown",
   "source": "## Dot product",
   "id": "8397127d9791fec4"
  },
  {
   "metadata": {
    "ExecuteTime": {
     "end_time": "2025-05-31T14:50:03.353488Z",
     "start_time": "2025-05-31T14:50:03.350883Z"
    }
   },
   "cell_type": "code",
   "source": [
    "n_v_1 = np.array([1, 2, 3, 4])\n",
    "n_v_2 = np.array([0, 1, 0, -1])\n",
    "\n",
    "print(np.dot(n_v_1, n_v_2))\n",
    "print(np.sum(n_v_1 * n_v_2))"
   ],
   "id": "8eb72b12d68dc8d8",
   "outputs": [
    {
     "name": "stdout",
     "output_type": "stream",
     "text": [
      "-2\n",
      "-2\n"
     ]
    }
   ],
   "execution_count": 7
  },
  {
   "metadata": {
    "ExecuteTime": {
     "end_time": "2025-05-31T14:50:03.358076Z",
     "start_time": "2025-05-31T14:50:03.354545Z"
    }
   },
   "cell_type": "code",
   "source": [
    "t_v_1 = torch.tensor([1, 2, 3, 4])\n",
    "t_v_2 = torch.tensor([0, 1, 0, -1])\n",
    "\n",
    "print(torch.dot(t_v_1, t_v_2))\n",
    "print(torch.sum(t_v_1 * t_v_2))"
   ],
   "id": "9be36475ef3889c1",
   "outputs": [
    {
     "name": "stdout",
     "output_type": "stream",
     "text": [
      "tensor(-2)\n",
      "tensor(-2)\n"
     ]
    }
   ],
   "execution_count": 8
  },
  {
   "metadata": {},
   "cell_type": "markdown",
   "source": "## Matrix multiplication",
   "id": "43a2eef0f3918465"
  },
  {
   "metadata": {
    "ExecuteTime": {
     "end_time": "2025-05-31T14:50:03.362300Z",
     "start_time": "2025-05-31T14:50:03.358967Z"
    }
   },
   "cell_type": "code",
   "source": [
    "A = np.random.randn(3, 4)\n",
    "B = np.random.randn(4, 5)\n",
    "C = np.random.randn(3, 7)\n",
    "\n",
    "print(np.round(A@B, 2))\n",
    "print()\n",
    "print(np.round(C.T@A, 2))"
   ],
   "id": "ea95943301bb1658",
   "outputs": [
    {
     "name": "stdout",
     "output_type": "stream",
     "text": [
      "[[-2.26 -1.24  0.69  1.46 -0.34]\n",
      " [-1.01  1.07 -0.49  0.47 -0.06]\n",
      " [ 0.75  0.78 -0.25  0.71  0.75]]\n",
      "\n",
      "[[-0.13  0.49 -0.47 -0.48]\n",
      " [-1.4   0.76 -1.35 -0.54]\n",
      " [ 2.22 -0.46  1.32 -0.03]\n",
      " [-0.2  -1.46 -3.39 -1.03]\n",
      " [-1.09  1.59 -1.26 -1.11]\n",
      " [ 0.44 -0.1  -0.71 -0.55]\n",
      " [ 0.5  -0.45  0.14  0.1 ]]\n"
     ]
    }
   ],
   "execution_count": 9
  },
  {
   "metadata": {
    "ExecuteTime": {
     "end_time": "2025-05-31T14:50:03.369998Z",
     "start_time": "2025-05-31T14:50:03.365212Z"
    }
   },
   "cell_type": "code",
   "source": [
    "A = torch.randn(3, 4)\n",
    "B = torch.randn(4, 5)\n",
    "C1 = np.random.randn(4, 7)\n",
    "C2 = torch.tensor(C1, dtype=torch.float)\n",
    "\n",
    "print(torch.round(A@B, decimals=2))\n",
    "print(torch.round(A@C2, decimals=2))"
   ],
   "id": "4c538945d0479ef4",
   "outputs": [
    {
     "name": "stdout",
     "output_type": "stream",
     "text": [
      "tensor([[-0.2900, -2.8300, -2.0900,  0.6600, -0.3200],\n",
      "        [-0.4900, -2.4900, -3.7100,  1.2200, -1.3300],\n",
      "        [-0.2000, -1.0400, -0.5100,  1.7400, -1.0900]])\n",
      "tensor([[-1.7500,  0.6800, -0.6000,  0.4200,  1.4700,  0.5500, -1.3100],\n",
      "        [ 0.4200,  1.2000, -0.3300,  1.9300, -0.1600,  1.4200,  0.5500],\n",
      "        [-0.9400, -0.2600, -2.0500,  0.4000,  1.2100,  0.3400, -0.2800]])\n"
     ]
    }
   ],
   "execution_count": 10
  },
  {
   "metadata": {},
   "cell_type": "markdown",
   "source": "## Softmax",
   "id": "163e8ff0081aac88"
  },
  {
   "metadata": {
    "ExecuteTime": {
     "end_time": "2025-05-31T14:50:03.374613Z",
     "start_time": "2025-05-31T14:50:03.370897Z"
    }
   },
   "cell_type": "code",
   "source": [
    "z = [1, 2, 3]\n",
    "\n",
    "num = np.exp(z)\n",
    "den = np.sum(num)\n",
    "sigma = num / den\n",
    "\n",
    "print(sigma)\n",
    "print(np.sum(sigma))"
   ],
   "id": "bd69e384ac670e98",
   "outputs": [
    {
     "name": "stdout",
     "output_type": "stream",
     "text": [
      "[0.09003057 0.24472847 0.66524096]\n",
      "1.0\n"
     ]
    }
   ],
   "execution_count": 11
  },
  {
   "metadata": {
    "ExecuteTime": {
     "end_time": "2025-05-31T14:50:03.545938Z",
     "start_time": "2025-05-31T14:50:03.376476Z"
    }
   },
   "cell_type": "code",
   "source": [
    "z = np.random.randint(-5, high=15, size=5)\n",
    "\n",
    "print(z)\n",
    "\n",
    "num = np.exp(z)\n",
    "den = np.sum(num)\n",
    "sigma = num / den\n",
    "\n",
    "plt.plot(z, sigma, 'ko')\n",
    "plt.xlabel(\"Original number (z)\")\n",
    "plt.ylabel(r\"Softmaxified $\\sigma$\")\n",
    "plt.title(r\"$\\sum \\sigma$ = %g\" % np.sum(sigma))\n",
    "plt.show()"
   ],
   "id": "c7942df9a0a7ae00",
   "outputs": [
    {
     "name": "stdout",
     "output_type": "stream",
     "text": [
      "[ 5  2 14 14 11]\n"
     ]
    },
    {
     "data": {
      "text/plain": [
       "<Figure size 640x480 with 1 Axes>"
      ],
      "image/png": "[encoded data removed]"
     },
     "metadata": {},
     "output_type": "display_data"
    }
   ],
   "execution_count": 12
  },
  {
   "metadata": {
    "ExecuteTime": {
     "end_time": "2025-05-31T14:50:03.552854Z",
     "start_time": "2025-05-31T14:50:03.547406Z"
    }
   },
   "cell_type": "code",
   "source": [
    "softmax = nn.Softmax(dim=0)\n",
    "\n",
    "sigma_t = softmax(torch.Tensor(z))\n",
    "\n",
    "print(np.round(sigma_t, 3))"
   ],
   "id": "8d5afa6ad589c7fc",
   "outputs": [
    {
     "name": "stdout",
     "output_type": "stream",
     "text": [
      "tensor([0.0000, 0.0000, 0.4880, 0.4880, 0.0240])\n"
     ]
    }
   ],
   "execution_count": 13
  },
  {
   "metadata": {
    "ExecuteTime": {
     "end_time": "2025-05-31T14:50:03.636223Z",
     "start_time": "2025-05-31T14:50:03.553779Z"
    }
   },
   "cell_type": "code",
   "source": [
    "plt.plot(sigma, sigma_t, 'ko')\n",
    "plt.xlabel(\"'Manual' softmax\")\n",
    "plt.ylabel(\"PyTorch nn.Softmax\")\n",
    "plt.title(f\"The two methods correlate at r={np.corrcoef(sigma, sigma_t)[0, 1]}\")\n",
    "plt.show()"
   ],
   "id": "f4e59dd6d1689098",
   "outputs": [
    {
     "data": {
      "text/plain": [
       "<Figure size 640x480 with 1 Axes>"
      ],
      "image/png": "[encoded data removed]"
     },
     "metadata": {},
     "output_type": "display_data"
    }
   ],
   "execution_count": 14
  },
  {
   "metadata": {},
   "cell_type": "markdown",
   "source": "## Logarithms",
   "id": "eab7305c254615b9"
  },
  {
   "metadata": {
    "ExecuteTime": {
     "end_time": "2025-05-31T14:50:03.706320Z",
     "start_time": "2025-05-31T14:50:03.637096Z"
    }
   },
   "cell_type": "code",
   "source": [
    "x = np.linspace(.0001, 1, 200)\n",
    "log_x = np.log(x)\n",
    "fig = plt.figure()\n",
    "\n",
    "plt.plot(x, log_x, 'ks-', markerfacecolor='w')\n",
    "plt.xlabel('x')\n",
    "plt.ylabel('log(x)')\n",
    "plt.show()"
   ],
   "id": "79b3e23e2cb45db3",
   "outputs": [
    {
     "data": {
      "text/plain": [
       "<Figure size 640x480 with 1 Axes>"
      ],
      "image/png": "[encoded data removed]"
     },
     "metadata": {},
     "output_type": "display_data"
    }
   ],
   "execution_count": 15
  },
  {
   "metadata": {
    "ExecuteTime": {
     "end_time": "2025-05-31T14:50:03.794438Z",
     "start_time": "2025-05-31T14:50:03.707514Z"
    }
   },
   "cell_type": "code",
   "source": [
    "x = np.linspace(.0001, 1, 20)\n",
    "log_x = np.log(x)\n",
    "exp_x = np.exp(x)\n",
    "\n",
    "plt.plot(x, x, color=[.8, .8, .8])\n",
    "plt.plot(x, np.exp(log_x), 'o', markersize=8)\n",
    "plt.plot(x, np.log(exp_x), 'x', markersize=8)\n",
    "plt.xlabel('x')\n",
    "plt.ylabel('f(g(x))')\n",
    "plt.legend(['unity', 'exp(log(x))', 'log(exp(x))'])\n",
    "plt.show()"
   ],
   "id": "5b4c7db19ad064c8",
   "outputs": [
    {
     "data": {
      "text/plain": [
       "<Figure size 640x480 with 1 Axes>"
      ],
      "image/png": "[encoded data removed]"
     },
     "metadata": {},
     "output_type": "display_data"
    }
   ],
   "execution_count": 16
  },
  {
   "metadata": {},
   "cell_type": "markdown",
   "source": "## Entropy and cross-entropy",
   "id": "5dd80970c2b46097"
  },
  {
   "metadata": {
    "ExecuteTime": {
     "end_time": "2025-05-31T14:50:03.799783Z",
     "start_time": "2025-05-31T14:50:03.795587Z"
    }
   },
   "cell_type": "code",
   "source": [
    "X = [.25, .75]\n",
    "\n",
    "H = 0\n",
    "\n",
    "for p in X:\n",
    "    H -= p * np.log(p)\n",
    "    \n",
    "print(H)"
   ],
   "id": "4a234fdd619093c8",
   "outputs": [
    {
     "name": "stdout",
     "output_type": "stream",
     "text": [
      "0.5623351446188083\n"
     ]
    }
   ],
   "execution_count": 17
  },
  {
   "metadata": {
    "ExecuteTime": {
     "end_time": "2025-05-31T14:50:03.803939Z",
     "start_time": "2025-05-31T14:50:03.800935Z"
    }
   },
   "cell_type": "code",
   "source": [
    "p = [1, 0]\n",
    "q = [.25, .75]\n",
    "H = 0\n",
    "\n",
    "for i in range(len(p)):\n",
    "    H -= p[i] * np.log(q[i])\n",
    "    \n",
    "print(H)"
   ],
   "id": "94dc1ed2b8b70642",
   "outputs": [
    {
     "name": "stdout",
     "output_type": "stream",
     "text": [
      "1.3862943611198906\n"
     ]
    }
   ],
   "execution_count": 18
  },
  {
   "metadata": {
    "ExecuteTime": {
     "end_time": "2025-05-31T14:50:03.810493Z",
     "start_time": "2025-05-31T14:50:03.805897Z"
    }
   },
   "cell_type": "code",
   "source": [
    "p_tensor = torch.Tensor(p)\n",
    "q_tensor = torch.Tensor(q)\n",
    "\n",
    "F.binary_cross_entropy(q_tensor, p_tensor)"
   ],
   "id": "dd86294a1d6f307f",
   "outputs": [
    {
     "data": {
      "text/plain": [
       "tensor(1.3863)"
      ]
     },
     "execution_count": 19,
     "metadata": {},
     "output_type": "execute_result"
    }
   ],
   "execution_count": 19
  },
  {
   "metadata": {},
   "cell_type": "markdown",
   "source": "## Min/max and argmin/argmax",
   "id": "8c33acf24b75d6f0"
  },
  {
   "metadata": {
    "ExecuteTime": {
     "end_time": "2025-05-31T14:50:03.815276Z",
     "start_time": "2025-05-31T14:50:03.811580Z"
    }
   },
   "cell_type": "code",
   "source": [
    "v = np.array([1, 40, 2, -3])\n",
    "\n",
    "min_val = np.min(v)\n",
    "max_val = np.max(v)\n",
    "\n",
    "print(\"Min: %g, max: %g\" %(min_val, max_val))\n",
    "\n",
    "min_idx = np.argmin(v)\n",
    "max_idx = np.argmax(v)\n",
    "\n",
    "print(\"Min index: %g, max index: %g\" %(min_idx, max_idx))"
   ],
   "id": "322eeee74040cb0",
   "outputs": [
    {
     "name": "stdout",
     "output_type": "stream",
     "text": [
      "Min: -3, max: 40\n",
      "Min index: 3, max index: 1\n"
     ]
    }
   ],
   "execution_count": 20
  },
  {
   "metadata": {
    "ExecuteTime": {
     "end_time": "2025-05-31T14:50:03.820396Z",
     "start_time": "2025-05-31T14:50:03.816745Z"
    }
   },
   "cell_type": "code",
   "source": [
    "M = np.array([\n",
    "    [0, 1, 10],\n",
    "    [20, 8, 5]\n",
    "])\n",
    "\n",
    "print(M)\n",
    "print(np.min(M))\n",
    "print()\n",
    "print(np.min(M, axis=0))\n",
    "print(np.argmin(M, axis=0))\n",
    "print()\n",
    "print(np.min(M, axis=1))\n",
    "print(np.argmin(M, axis=1))"
   ],
   "id": "3a10113a312feb",
   "outputs": [
    {
     "name": "stdout",
     "output_type": "stream",
     "text": [
      "[[ 0  1 10]\n",
      " [20  8  5]]\n",
      "0\n",
      "\n",
      "[0 1 5]\n",
      "[0 0 1]\n",
      "\n",
      "[0 5]\n",
      "[0 2]\n"
     ]
    }
   ],
   "execution_count": 21
  },
  {
   "metadata": {
    "ExecuteTime": {
     "end_time": "2025-05-31T14:50:03.825705Z",
     "start_time": "2025-05-31T14:50:03.822138Z"
    }
   },
   "cell_type": "code",
   "source": [
    "v = torch.Tensor(v)\n",
    "\n",
    "min_val = torch.min(v)\n",
    "max_val = torch.max(v)\n",
    "\n",
    "print(\"Min: %g, max: %g\" %(min_val, max_val))\n",
    "\n",
    "min_idx = torch.argmin(v)\n",
    "max_idx = torch.argmax(v)\n",
    "\n",
    "print(\"Min index: %g, max index: %g\" %(min_idx, max_idx))"
   ],
   "id": "166c07bda5176b99",
   "outputs": [
    {
     "name": "stdout",
     "output_type": "stream",
     "text": [
      "Min: -3, max: 40\n",
      "Min index: 3, max index: 1\n"
     ]
    }
   ],
   "execution_count": 22
  },
  {
   "metadata": {
    "ExecuteTime": {
     "end_time": "2025-05-31T14:50:03.833890Z",
     "start_time": "2025-05-31T14:50:03.826616Z"
    }
   },
   "cell_type": "code",
   "source": [
    "M = torch.Tensor(M)\n",
    "\n",
    "print(M)\n",
    "print(torch.min(M))\n",
    "print()\n",
    "\n",
    "min_1 = torch.min(M, axis=0)\n",
    "min_2 = torch.min(M, axis=1)\n",
    "\n",
    "print(min_1.values)\n",
    "print(min_1.indices)\n",
    "print()\n",
    "print(min_2.values)\n",
    "print(min_2.indices)"
   ],
   "id": "7e8f6e9699b53b2b",
   "outputs": [
    {
     "name": "stdout",
     "output_type": "stream",
     "text": [
      "tensor([[ 0.,  1., 10.],\n",
      "        [20.,  8.,  5.]])\n",
      "tensor(0.)\n",
      "\n",
      "tensor([0., 1., 5.])\n",
      "tensor([0, 0, 1])\n",
      "\n",
      "tensor([0., 5.])\n",
      "tensor([0, 2])\n"
     ]
    }
   ],
   "execution_count": 23
  },
  {
   "metadata": {},
   "cell_type": "markdown",
   "source": "## Mean and variance",
   "id": "d16227433d166e20"
  },
  {
   "metadata": {
    "ExecuteTime": {
     "end_time": "2025-05-31T14:50:03.838456Z",
     "start_time": "2025-05-31T14:50:03.835063Z"
    }
   },
   "cell_type": "code",
   "source": [
    "x = [1, 2, 4, 6, 5, 4, 0]\n",
    "n = len(x)\n",
    "\n",
    "mean_1 = np.mean(x)\n",
    "mean_2 = np.sum(x) / n\n",
    "\n",
    "print(mean_1)\n",
    "print(mean_2)"
   ],
   "id": "77ec1f4c3a90e346",
   "outputs": [
    {
     "name": "stdout",
     "output_type": "stream",
     "text": [
      "3.142857142857143\n",
      "3.142857142857143\n"
     ]
    }
   ],
   "execution_count": 24
  },
  {
   "metadata": {
    "ExecuteTime": {
     "end_time": "2025-05-31T14:50:03.843516Z",
     "start_time": "2025-05-31T14:50:03.839793Z"
    }
   },
   "cell_type": "code",
   "source": [
    "var_1 = np.var(x, ddof=1)\n",
    "var_2 = (1 / (n - 1)) * np.sum((x - mean_1) ** 2)\n",
    "\n",
    "print(var_1)\n",
    "print(var_2)"
   ],
   "id": "c8f9115e1151d5b5",
   "outputs": [
    {
     "name": "stdout",
     "output_type": "stream",
     "text": [
      "4.809523809523809\n",
      "4.809523809523809\n"
     ]
    }
   ],
   "execution_count": 25
  },
  {
   "metadata": {
    "ExecuteTime": {
     "end_time": "2025-05-31T14:50:03.849483Z",
     "start_time": "2025-05-31T14:50:03.844790Z"
    }
   },
   "cell_type": "code",
   "source": [
    "x = torch.Tensor(x)\n",
    "\n",
    "mean_1 = torch.mean(x)\n",
    "mean_2 = torch.sum(x) / n\n",
    "\n",
    "print(mean_1)\n",
    "print(mean_2)"
   ],
   "id": "6e2caf1d5c5534b9",
   "outputs": [
    {
     "name": "stdout",
     "output_type": "stream",
     "text": [
      "tensor(3.1429)\n",
      "tensor(3.1429)\n"
     ]
    }
   ],
   "execution_count": 26
  },
  {
   "metadata": {
    "ExecuteTime": {
     "end_time": "2025-05-31T14:50:03.854648Z",
     "start_time": "2025-05-31T14:50:03.850746Z"
    }
   },
   "cell_type": "code",
   "source": [
    "var_1 = torch.var(x)\n",
    "var_2 = (1 / (n - 1)) * torch.sum((x - mean_1) ** 2)\n",
    "\n",
    "print(var_1)\n",
    "print(var_2)"
   ],
   "id": "3bfec0acaf33654",
   "outputs": [
    {
     "name": "stdout",
     "output_type": "stream",
     "text": [
      "tensor(4.8095)\n",
      "tensor(4.8095)\n"
     ]
    }
   ],
   "execution_count": 27
  },
  {
   "metadata": {},
   "cell_type": "markdown",
   "source": "## Random sampling and sampling variability",
   "id": "ce1a5dc2aec5ceb7"
  },
  {
   "metadata": {
    "ExecuteTime": {
     "end_time": "2025-05-31T14:50:03.865855Z",
     "start_time": "2025-05-31T14:50:03.861355Z"
    }
   },
   "cell_type": "code",
   "source": [
    "x = [1, -2, 4, 11, 3, -4, -16, 12, 0, -1, 10]\n",
    "n = len(x)\n",
    "\n",
    "pop_mean = np.mean(x)\n",
    "sample = np.random.choice(x, size=5, replace=True)\n",
    "sample_mean = np.mean(sample)\n",
    "\n",
    "print(pop_mean)\n",
    "print(sample_mean)"
   ],
   "id": "33e0a4282958b403",
   "outputs": [
    {
     "name": "stdout",
     "output_type": "stream",
     "text": [
      "1.6363636363636365\n",
      "3.4\n"
     ]
    }
   ],
   "execution_count": 28
  },
  {
   "metadata": {
    "ExecuteTime": {
     "end_time": "2025-05-31T14:50:04.171441Z",
     "start_time": "2025-05-31T14:50:03.866863Z"
    }
   },
   "cell_type": "code",
   "source": [
    "experiments_nr = 10000\n",
    "sample_means = np.zeros(experiments_nr)\n",
    "\n",
    "for i in range(experiments_nr):\n",
    "    sample = np.random.choice(x, size=5, replace=True)\n",
    "    sample_means[i] = np.mean(sample)\n",
    "\n",
    "plt.hist(sample_means, bins=40, density=True)\n",
    "plt.plot([pop_mean, pop_mean], [0, .3], 'm--')\n",
    "plt.ylabel('Count')\n",
    "plt.xlabel('Sample mean')\n",
    "plt.show()"
   ],
   "id": "397bc96e4d969052",
   "outputs": [
    {
     "data": {
      "text/plain": [
       "<Figure size 640x480 with 1 Axes>"
      ],
      "image/png": "[encoded data removed]"
     },
     "metadata": {},
     "output_type": "display_data"
    }
   ],
   "execution_count": 29
  },
  {
   "metadata": {},
   "cell_type": "markdown",
   "source": "## Reproducible randomness via seeding",
   "id": "27784df5a9d9cb10"
  },
  {
   "metadata": {
    "ExecuteTime": {
     "end_time": "2025-05-31T14:50:04.176256Z",
     "start_time": "2025-05-31T14:50:04.172880Z"
    }
   },
   "cell_type": "code",
   "source": "np.random.randn(5)",
   "id": "3e4aff991beb055f",
   "outputs": [
    {
     "data": {
      "text/plain": [
       "array([ 1.70625962,  0.32383699, -1.01795507, -2.34022129,  1.70469591])"
      ]
     },
     "execution_count": 30,
     "metadata": {},
     "output_type": "execute_result"
    }
   ],
   "execution_count": 30
  },
  {
   "metadata": {
    "ExecuteTime": {
     "end_time": "2025-05-31T14:50:04.180311Z",
     "start_time": "2025-05-31T14:50:04.177180Z"
    }
   },
   "cell_type": "code",
   "source": [
    "np.random.seed(5)\n",
    "\n",
    "print(np.random.randn(5))\n",
    "print(np.random.randn(5))"
   ],
   "id": "d7155d5f7b8642ca",
   "outputs": [
    {
     "name": "stdout",
     "output_type": "stream",
     "text": [
      "[ 0.44122749 -0.33087015  2.43077119 -0.25209213  0.10960984]\n",
      "[ 1.58248112 -0.9092324  -0.59163666  0.18760323 -0.32986996]\n"
     ]
    }
   ],
   "execution_count": 31
  },
  {
   "metadata": {
    "ExecuteTime": {
     "end_time": "2025-05-31T14:50:04.185444Z",
     "start_time": "2025-05-31T14:50:04.181433Z"
    }
   },
   "cell_type": "code",
   "source": [
    "rand_seed_1 = np.random.RandomState(17)\n",
    "rand_seed_2 = np.random.RandomState(20210530)\n",
    "\n",
    "print(rand_seed_1.randn(5))\n",
    "print(rand_seed_2.randn(5))\n",
    "print(rand_seed_1.randn(5))\n",
    "print(rand_seed_2.randn(5))\n",
    "print(np.random.randn(5))"
   ],
   "id": "422baae8724e9619",
   "outputs": [
    {
     "name": "stdout",
     "output_type": "stream",
     "text": [
      "[ 0.27626589 -1.85462808  0.62390111  1.14531129  1.03719047]\n",
      "[-0.24972681 -1.01951826  2.23461339  0.72764703  1.2921122 ]\n",
      "[ 1.88663893 -0.11169829 -0.36210134  0.14867505 -0.43778315]\n",
      "[ 1.15494929 -0.0015467  -0.11196868 -1.08136725  0.10265891]\n",
      "[-1.19276461 -0.20487651 -0.35882895  0.6034716  -1.66478853]\n"
     ]
    }
   ],
   "execution_count": 32
  },
  {
   "metadata": {
    "ExecuteTime": {
     "end_time": "2025-05-31T14:50:04.191445Z",
     "start_time": "2025-05-31T14:50:04.186591Z"
    }
   },
   "cell_type": "code",
   "source": "torch.randn(5)",
   "id": "ec979b0746cc1f86",
   "outputs": [
    {
     "data": {
      "text/plain": [
       "tensor([-0.1382, -1.0021,  0.4933,  0.5527,  1.8889])"
      ]
     },
     "execution_count": 33,
     "metadata": {},
     "output_type": "execute_result"
    }
   ],
   "execution_count": 33
  },
  {
   "metadata": {
    "ExecuteTime": {
     "end_time": "2025-05-31T14:50:04.197587Z",
     "start_time": "2025-05-31T14:50:04.192335Z"
    }
   },
   "cell_type": "code",
   "source": [
    "torch.manual_seed(17)\n",
    "\n",
    "print(torch.randn(5))\n",
    "print(np.random.randn(5))"
   ],
   "id": "8cc8308a20cd92d8",
   "outputs": [
    {
     "name": "stdout",
     "output_type": "stream",
     "text": [
      "tensor([-1.4135,  0.2336,  0.0340,  0.3499, -0.0145])\n",
      "[-0.70017904  1.15139101  1.85733101 -1.51117956  0.64484751]\n"
     ]
    }
   ],
   "execution_count": 34
  },
  {
   "metadata": {
    "ExecuteTime": {
     "end_time": "2025-05-31T14:50:04.267106Z",
     "start_time": "2025-05-31T14:50:04.198608Z"
    }
   },
   "cell_type": "code",
   "source": [
    "n_1 = 30\n",
    "n_2 = 40\n",
    "mu_1 = 1\n",
    "mu_2 = 2\n",
    "\n",
    "data_1 = mu_1 + np.random.randn(n_1)\n",
    "data_2 = mu_2 + np.random.randn(n_2)\n",
    "t, p = stats.ttest_ind(data_1, data_2)\n",
    "\n",
    "plt.plot(0 + np.random.randn(n_1) / 15, data_1, 'ro', markerfacecolor='w', markersize=14)\n",
    "plt.plot(1 + np.random.randn(n_2) / 15, data_2, 'bs', markerfacecolor='w', markersize=14)\n",
    "plt.xlim([-1, 2])\n",
    "plt.xticks([0, 1], labels=['Group 1', 'Group 2'])\n",
    "plt.title(f\"t={t:.3f}, p={p:.5f}\")\n",
    "plt.show()"
   ],
   "id": "144343f5cba1ad2e",
   "outputs": [
    {
     "data": {
      "text/plain": [
       "<Figure size 640x480 with 1 Axes>"
      ],
      "image/png": "[encoded data removed]"
     },
     "metadata": {},
     "output_type": "display_data"
    }
   ],
   "execution_count": 35
  },
  {
   "metadata": {},
   "cell_type": "markdown",
   "source": "## Derivatives",
   "id": "74e5894bfdb400af"
  },
  {
   "metadata": {
    "ExecuteTime": {
     "end_time": "2025-05-31T14:50:04.296804Z",
     "start_time": "2025-05-31T14:50:04.268036Z"
    }
   },
   "cell_type": "code",
   "source": [
    "x = sym.symbols('x')\n",
    "\n",
    "fx = 2 * x ** 2\n",
    "\n",
    "df = sym.diff(fx, x)\n",
    "\n",
    "print(fx)\n",
    "print(df)"
   ],
   "id": "c3695f9c39e0f6b9",
   "outputs": [
    {
     "name": "stdout",
     "output_type": "stream",
     "text": [
      "2*x**2\n",
      "4*x\n"
     ]
    }
   ],
   "execution_count": 36
  },
  {
   "metadata": {
    "ExecuteTime": {
     "end_time": "2025-05-31T14:50:04.536503Z",
     "start_time": "2025-05-31T14:50:04.297851Z"
    }
   },
   "cell_type": "code",
   "source": [
    "symplot(fx, (x, -4, 4), title=\"The function\")\n",
    "symplot(df, (x, -4, 4), title=\"Its derivative\")\n",
    "\n",
    "plt.show()"
   ],
   "id": "60a82a70ec96dd05",
   "outputs": [
    {
     "data": {
      "text/plain": [
       "<Figure size 640x480 with 1 Axes>"
      ],
      "image/png": "[encoded data removed]"
     },
     "metadata": {},
     "output_type": "display_data"
    },
    {
     "data": {
      "text/plain": [
       "<Figure size 640x480 with 1 Axes>"
      ],
      "image/png": "[encoded data removed]"
     },
     "metadata": {},
     "output_type": "display_data"
    }
   ],
   "execution_count": 37
  },
  {
   "metadata": {
    "ExecuteTime": {
     "end_time": "2025-05-31T14:50:04.561400Z",
     "start_time": "2025-05-31T14:50:04.537539Z"
    }
   },
   "cell_type": "code",
   "source": [
    "x = sym.symbols('x')\n",
    "\n",
    "fx = 2 * x ** 2\n",
    "gx = 4 * x ** 3 - 3 * x ** 4\n",
    "\n",
    "df = sym.diff(fx)\n",
    "dg = sym.diff(gx)\n",
    "\n",
    "manual = df * gx + fx * dg\n",
    "via_sympy = sym.diff(fx * gx)\n",
    "\n",
    "print(\"The functions:\")\n",
    "display(fx)\n",
    "display(gx)\n",
    "print()\n",
    "\n",
    "print(\"The derivatives:\")\n",
    "display(df)\n",
    "display(dg)\n",
    "print()\n",
    "\n",
    "print(\"Manual product rule:\")\n",
    "display(manual)\n",
    "print()\n",
    "\n",
    "print(\"Via sympy:\")\n",
    "display(via_sympy)\n",
    "print()"
   ],
   "id": "5f11be9d3ec7748c",
   "outputs": [
    {
     "name": "stdout",
     "output_type": "stream",
     "text": [
      "The functions:\n"
     ]
    },
    {
     "data": {
      "text/plain": [
       "2*x**2"
      ],
      "text/latex": "$\\displaystyle 2 x^{2}$"
     },
     "metadata": {},
     "output_type": "display_data"
    },
    {
     "data": {
      "text/plain": [
       "-3*x**4 + 4*x**3"
      ],
      "text/latex": "$\\displaystyle - 3 x^{4} + 4 x^{3}$"
     },
     "metadata": {},
     "output_type": "display_data"
    },
    {
     "name": "stdout",
     "output_type": "stream",
     "text": [
      "\n",
      "The derivatives:\n"
     ]
    },
    {
     "data": {
      "text/plain": [
       "4*x"
      ],
      "text/latex": "$\\displaystyle 4 x$"
     },
     "metadata": {},
     "output_type": "display_data"
    },
    {
     "data": {
      "text/plain": [
       "-12*x**3 + 12*x**2"
      ],
      "text/latex": "$\\displaystyle - 12 x^{3} + 12 x^{2}$"
     },
     "metadata": {},
     "output_type": "display_data"
    },
    {
     "name": "stdout",
     "output_type": "stream",
     "text": [
      "\n",
      "Manual product rule:\n"
     ]
    },
    {
     "data": {
      "text/plain": [
       "2*x**2*(-12*x**3 + 12*x**2) + 4*x*(-3*x**4 + 4*x**3)"
      ],
      "text/latex": "$\\displaystyle 2 x^{2} \\left(- 12 x^{3} + 12 x^{2}\\right) + 4 x \\left(- 3 x^{4} + 4 x^{3}\\right)$"
     },
     "metadata": {},
     "output_type": "display_data"
    },
    {
     "name": "stdout",
     "output_type": "stream",
     "text": [
      "\n",
      "Via sympy:\n"
     ]
    },
    {
     "data": {
      "text/plain": [
       "2*x**2*(-12*x**3 + 12*x**2) + 4*x*(-3*x**4 + 4*x**3)"
      ],
      "text/latex": "$\\displaystyle 2 x^{2} \\left(- 12 x^{3} + 12 x^{2}\\right) + 4 x \\left(- 3 x^{4} + 4 x^{3}\\right)$"
     },
     "metadata": {},
     "output_type": "display_data"
    },
    {
     "name": "stdout",
     "output_type": "stream",
     "text": [
      "\n"
     ]
    }
   ],
   "execution_count": 38
  },
  {
   "metadata": {
    "ExecuteTime": {
     "end_time": "2025-05-31T14:50:04.575073Z",
     "start_time": "2025-05-31T14:50:04.562486Z"
    }
   },
   "cell_type": "code",
   "source": [
    "gx = x ** 2 + 4 * x ** 3\n",
    "fx = gx ** 5\n",
    "\n",
    "print(\"The function:\")\n",
    "display(fx)\n",
    "print()\n",
    "\n",
    "print(\"Its derivative:\")\n",
    "display(sym.diff(fx))"
   ],
   "id": "ec980a117694d158",
   "outputs": [
    {
     "name": "stdout",
     "output_type": "stream",
     "text": [
      "The function:\n"
     ]
    },
    {
     "data": {
      "text/plain": [
       "(4*x**3 + x**2)**5"
      ],
      "text/latex": "$\\displaystyle \\left(4 x^{3} + x^{2}\\right)^{5}$"
     },
     "metadata": {},
     "output_type": "display_data"
    },
    {
     "name": "stdout",
     "output_type": "stream",
     "text": [
      "\n",
      "Its derivative:\n"
     ]
    },
    {
     "data": {
      "text/plain": [
       "(60*x**2 + 10*x)*(4*x**3 + x**2)**4"
      ],
      "text/latex": "$\\displaystyle \\left(60 x^{2} + 10 x\\right) \\left(4 x^{3} + x^{2}\\right)^{4}$"
     },
     "metadata": {},
     "output_type": "display_data"
    }
   ],
   "execution_count": 39
  },
  {
   "metadata": {
    "ExecuteTime": {
     "end_time": "2025-05-31T14:50:04.577373Z",
     "start_time": "2025-05-31T14:50:04.575974Z"
    }
   },
   "cell_type": "code",
   "source": "",
   "id": "1890ba90e6be3ccf",
   "outputs": [],
   "execution_count": 39
  }
 ],
 "metadata": {
  "kernelspec": {
   "display_name": "Python 3",
   "language": "python",
   "name": "python3"
  },
  "language_info": {
   "codemirror_mode": {
    "name": "ipython",
    "version": 2
   },
   "file_extension": ".py",
   "mimetype": "text/x-python",
   "name": "python",
   "nbconvert_exporter": "python",
   "pygments_lexer": "ipython2",
   "version": "2.7.6"
  }
 },
 "nbformat": 4,
 "nbformat_minor": 5
}
